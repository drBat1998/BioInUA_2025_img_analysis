{
 "cells": [
  {
   "cell_type": "markdown",
   "metadata": {},
   "source": [
    "III. Отримання кількісних даних з зображень\n",
    "===========================================\n",
    "\n",
    "_Image Analysis with Python and Napari, Bioinformatics for Ukraine course, 6-24 October 2025, Kyiv, Ukraine._\n",
    "\n",
    "_© Borys Olifirov, 2025_"
   ]
  },
  {
   "cell_type": "markdown",
   "metadata": {},
   "source": [
    "__План:__\n",
    "- Маски в ярлики (labels)\n",
    "- Порівняння масок\n",
    "- Вимірювання властивостей ярликів і оцінка перетину масок\n",
    "- Маскування та простий аналіз 3D зображень (z-стеків та часових рядів)\n",
    "- Збереження результатів в tidy форматі"
   ]
  },
  {
   "cell_type": "markdown",
   "metadata": {},
   "source": [
    "---"
   ]
  },
  {
   "cell_type": "code",
   "execution_count": null,
   "metadata": {},
   "outputs": [],
   "source": [
    "import numpy as np\n",
    "import pandas as pd\n",
    "import skimage  # scikit-image\n",
    "import matplotlib.pyplot as plt\n",
    "\n",
    "\n",
    "from templates import module_template as tm  # використаємо попредньо створений модуль"
   ]
  },
  {
   "cell_type": "markdown",
   "metadata": {},
   "source": [
    "# Аналіз масок та ярлики\n",
    "---"
   ]
  },
  {
   "cell_type": "markdown",
   "metadata": {},
   "source": [
    "### Функція для побудови простої маски із завдання до попередньої зустрічі\n",
    "\n",
    "> [!NOTE]\n",
    "> Раджу збирати функції з ноутбуків в модулі, щоб не копіювати код з ноутбука в ноутбук і оформити в пакет в подальшому\n",
    ">"
   ]
  },
  {
   "cell_type": "code",
   "execution_count": null,
   "metadata": {},
   "outputs": [],
   "source": [
    "# Можете позичити цю функцію для власного модуля\n",
    "def simple_masking(image: np.ndarray, median_filter:int=0,\n",
    "                   closing:int=3, opening:int=3):\n",
    "    # попередня обробка зображення медіанним фільтром\n",
    "    preprocessed_image = skimage.filters.median(image,\n",
    "                                                footprint=skimage.morphology.disk(median_filter))\n",
    "    \n",
    "    # побудова маски за допомогою порогу Отсу\n",
    "    otsu_mask = preprocessed_image > skimage.filters.threshold_otsu(preprocessed_image)\n",
    "    \n",
    "    # закриттям маски позбавляємось дрібних прогалин\n",
    "    pre_filtered_mask = skimage.morphology.closing(otsu_mask,\n",
    "                                                   footprint=skimage.morphology.disk(closing))\n",
    "\n",
    "    # відкриттям маски видаляємо дрібні артефакти поза клітиною\n",
    "    filtered_mask = skimage.morphology.opening(pre_filtered_mask,\n",
    "                                               footprint=skimage.morphology.disk(opening))\n",
    "    \n",
    "    return filtered_mask"
   ]
  },
  {
   "cell_type": "markdown",
   "metadata": {},
   "source": [
    "Приклад застосування функції"
   ]
  },
  {
   "cell_type": "code",
   "execution_count": null,
   "metadata": {},
   "outputs": [],
   "source": [
    "bad_image = skimage.io.imread('demo_data/4D_HEK_spectral_time_series.tiff')[1,4]  # завантаження зображень з використанням skimage\n",
    "bad_image_corrected = tm.background_correction(bad_image)  # корекція фону з використанням функції з модуля\n",
    "\n",
    "plt.imshow(bad_image_corrected)"
   ]
  },
  {
   "cell_type": "code",
   "execution_count": null,
   "metadata": {},
   "outputs": [],
   "source": [
    "bad_image_mask = simple_masking(bad_image_corrected, median_filter=3, closing=5, opening=5)\n",
    "\n",
    "plt.imshow(bad_image_mask)"
   ]
  },
  {
   "cell_type": "markdown",
   "metadata": {},
   "source": [
    "### Різниця між масками та ярликами\n"
   ]
  },
  {
   "cell_type": "markdown",
   "metadata": {},
   "source": [
    "##### Завантеження масок для нейрона з попередньої зустрічі\n"
   ]
  },
  {
   "cell_type": "code",
   "execution_count": null,
   "metadata": {},
   "outputs": [],
   "source": [
    "neuron_mask = skimage.io.imread(\"course_data/neuron_mask.tif\")\n",
    "neuron_mask = neuron_mask.astype(bool)\n",
    "\n",
    "synapse_mask = skimage.io.imread(\"course_data/synapse_mask.tif\")\n",
    "synapse_mask = synapse_mask.astype(bool)"
   ]
  },
  {
   "cell_type": "markdown",
   "metadata": {},
   "source": [
    "> [!NOTE]\n",
    "> Тут є функція для одночасного відображення двох зображень, що може бути корисною для швидкої візуалізації результатів аналізу.\n",
    ">"
   ]
  },
  {
   "cell_type": "code",
   "execution_count": null,
   "metadata": {},
   "outputs": [],
   "source": [
    "# створимо функцію щоб швидко дивитись на дві маски поруч\n",
    "def two_mask_side_by_side(mask1: np.ndarray, mask2: np.ndarray):\n",
    "    plt.figure(figsize=(12, 12))\n",
    "\n",
    "    plt.subplot(121)\n",
    "    plt.imshow(mask1, cmap=\"magma\")\n",
    "\n",
    "    plt.subplot(122)\n",
    "    plt.imshow(mask2, cmap=\"magma\")\n",
    "\n",
    "    plt.show()\n",
    "\n",
    "\n",
    "two_mask_side_by_side(neuron_mask, synapse_mask)"
   ]
  },
  {
   "cell_type": "markdown",
   "metadata": {},
   "source": [
    "Обираємо фрагмент маски для наочності"
   ]
  },
  {
   "cell_type": "code",
   "execution_count": null,
   "metadata": {},
   "outputs": [],
   "source": [
    "neuron_mask_crop = neuron_mask[200:600, 800:1000]\n",
    "synapse_mask_crop = synapse_mask[200:600, 800:1000]\n",
    "\n",
    "two_mask_side_by_side(neuron_mask_crop, synapse_mask_crop)"
   ]
  },
  {
   "cell_type": "markdown",
   "metadata": {},
   "source": [
    "Додаткова обробки масок зважаючи на наявні артефакти"
   ]
  },
  {
   "cell_type": "code",
   "execution_count": null,
   "metadata": {},
   "outputs": [],
   "source": [
    "# закривання прогалин в масці нейрона\n",
    "neuron_mask_fin = skimage.morphology.closing(neuron_mask_crop,\n",
    "                                             footprint=skimage.morphology.disk(3))\n",
    "\n",
    "# видалення \"снігу\" в масці синапсів\n",
    "synapse_mask_fin = skimage.morphology.opening(synapse_mask_crop,\n",
    "                                              footprint=skimage.morphology.disk(2))\n",
    "\n",
    "\n",
    "two_mask_side_by_side(neuron_mask_fin, synapse_mask_fin)"
   ]
  },
  {
   "cell_type": "markdown",
   "metadata": {},
   "source": [
    "Побудова ярликів для окремих синапсів"
   ]
  },
  {
   "cell_type": "code",
   "execution_count": null,
   "metadata": {},
   "outputs": [],
   "source": [
    "synapse_labels = skimage.measure.label(synapse_mask_fin)\n",
    "print(f\"Кількість синапсів: {synapse_labels.max()}\")\n",
    "\n",
    "two_mask_side_by_side(synapse_mask_fin, synapse_labels)"
   ]
  },
  {
   "cell_type": "markdown",
   "metadata": {},
   "source": [
    "### Оцінка параметрів яраликів за допомогою `regionprops`"
   ]
  },
  {
   "cell_type": "markdown",
   "metadata": {},
   "source": [
    "Оцінка властивостей кожного синапсу"
   ]
  },
  {
   "cell_type": "code",
   "execution_count": null,
   "metadata": {},
   "outputs": [],
   "source": [
    "synapse_props = skimage.measure.regionprops(synapse_labels)\n",
    "print(type(synapse_props))\n",
    "print(len(synapse_props))"
   ]
  },
  {
   "cell_type": "code",
   "execution_count": null,
   "metadata": {},
   "outputs": [],
   "source": [
    "type(synapse_props[0])"
   ]
  },
  {
   "cell_type": "markdown",
   "metadata": {},
   "source": [
    "Які властивості доступні?\n",
    "\n",
    "За детальним переліком можна звернутися до [документації](https://scikit-image.org/docs/stable/api/skimage.measure.html#skimage.measure.regionprops)."
   ]
  },
  {
   "cell_type": "code",
   "execution_count": null,
   "metadata": {},
   "outputs": [],
   "source": [
    "dir(synapse_props[0])"
   ]
  },
  {
   "cell_type": "markdown",
   "metadata": {},
   "source": [
    "Можна навіть дістати маску окремого синапсу"
   ]
  },
  {
   "cell_type": "markdown",
   "metadata": {},
   "source": [
    "##### Застосуємо `regionprops` разом з зображенням"
   ]
  },
  {
   "cell_type": "markdown",
   "metadata": {},
   "source": [
    "Завантаження зображення нейрона"
   ]
  },
  {
   "cell_type": "code",
   "execution_count": null,
   "metadata": {},
   "outputs": [],
   "source": [
    "neuron_z_stack = skimage.io.imread('demo_data/4D_neuron_z-stack.tif')\n",
    "\n",
    "neuron_image = np.max(neuron_z_stack[:,0], axis=0)[200:600, 800:1000]\n",
    "synapse_image = np.max(neuron_z_stack[:,1], axis=0)[200:600, 800:1000]\n",
    "\n",
    "two_mask_side_by_side(neuron_image, synapse_image)"
   ]
  },
  {
   "cell_type": "markdown",
   "metadata": {},
   "source": [
    "Попередня обробка зображення"
   ]
  },
  {
   "cell_type": "code",
   "execution_count": null,
   "metadata": {},
   "outputs": [],
   "source": [
    "neuron_image = tm.background_correction(neuron_image)\n",
    "synapse_image = tm.background_correction(synapse_image)"
   ]
  },
  {
   "cell_type": "markdown",
   "metadata": {},
   "source": [
    "Подивимось взаємозв'язок між розміром синапсів та їх інтенсивністю"
   ]
  },
  {
   "cell_type": "code",
   "execution_count": null,
   "metadata": {},
   "outputs": [],
   "source": [
    "# аналіз властивостей ярликів з урахуванням інтенсивності\n",
    "synapse_props_full = skimage.measure.regionprops(synapse_labels,\n",
    "                                                 intensity_image=synapse_image)"
   ]
  },
  {
   "cell_type": "code",
   "execution_count": null,
   "metadata": {},
   "outputs": [],
   "source": [
    "synapse_area_list = []\n",
    "synapse_intensity_list = []\n",
    "\n",
    "for prop in synapse_props_full:\n",
    "    synapse_area_list.append(prop.area)\n",
    "    synapse_intensity_list.append(prop.intensity_mean)"
   ]
  },
  {
   "cell_type": "code",
   "execution_count": null,
   "metadata": {},
   "outputs": [],
   "source": [
    "plt.figure(figsize=(6,6))\n",
    "plt.plot(synapse_area_list, synapse_intensity_list, 'o')\n",
    "plt.xlabel(\"Площа синапсу (пікселі)\")\n",
    "plt.ylabel(\"Середня інтенсивність синапсу (a.u.)\")\n",
    "plt.show()"
   ]
  },
  {
   "cell_type": "markdown",
   "metadata": {},
   "source": [
    "Додамо ще аналіз вмісту білка інтересу в синапсах"
   ]
  },
  {
   "cell_type": "code",
   "execution_count": null,
   "metadata": {},
   "outputs": [],
   "source": [
    "protein_intensity_list = []\n",
    "\n",
    "# тут ми пробіжемося вручну по синапсам і вирахуємо інтенсивність білка інтересу\n",
    "for lab in range(1, synapse_labels.max()+1):\n",
    "    synapse_mask = synapse_labels == lab\n",
    "    protein_intensity = np.mean(neuron_image[synapse_mask])\n",
    "    protein_intensity_list.append(protein_intensity)"
   ]
  },
  {
   "cell_type": "code",
   "execution_count": null,
   "metadata": {},
   "outputs": [],
   "source": [
    "plt.figure(figsize=(6,6))\n",
    "plt.plot(synapse_area_list, synapse_intensity_list, 'o', color='blue', label='Скафолд')\n",
    "plt.plot(synapse_area_list, protein_intensity_list, 'o', color='red', label='Білок')\n",
    "plt.xlabel(\"Площа синапсу (пікселі)\")\n",
    "plt.ylabel(\"Середня інтенсивність синапсу (a.u.)\")\n",
    "plt.legend()\n",
    "plt.show()"
   ]
  },
  {
   "cell_type": "markdown",
   "metadata": {},
   "source": [
    "Подивимось на розподіл морфологічних параметрів синапсів"
   ]
  },
  {
   "cell_type": "code",
   "execution_count": null,
   "metadata": {},
   "outputs": [],
   "source": [
    "synapse_num = 35\n",
    "\n",
    "plt.figure(figsize=(6,12))\n",
    "plt.subplot(121)\n",
    "plt.imshow(synapse_props_full[synapse_num].image)\n",
    "plt.subplot(122)    \n",
    "plt.imshow(synapse_props_full[synapse_num].intensity_image, cmap='magma')\n",
    "plt.show()"
   ]
  },
  {
   "cell_type": "code",
   "execution_count": null,
   "metadata": {},
   "outputs": [],
   "source": [
    "# виокремомо малу та велику осі еліпса\n",
    "synapse_minor = []\n",
    "synapse_major = []\n",
    "\n",
    "for prop in synapse_props_full:\n",
    "    synapse_minor.append(prop.minor_axis_length)\n",
    "    synapse_major.append(prop.major_axis_length)\n",
    "\n",
    "synapse_minor = np.array(synapse_minor)\n",
    "synapse_major = np.array(synapse_major)\n",
    "\n",
    "\n",
    "# щоб перевезти розмір у пікселях у мікрометри, треба знати розмір пікселя\n",
    "pixel_size = 0.18  # мкм/піксель\n",
    "synapse_major = synapse_major * pixel_size\n",
    "synapse_minor = synapse_minor * pixel_size\n",
    "\n",
    "\n",
    "# побудова гістограм розподілу розмірів синапсів\n",
    "plt.figure(figsize=(6,6))\n",
    "plt.hist(synapse_minor, bins=30, alpha=0.5, color='blue', label='Мала вісь')\n",
    "plt.hist(synapse_major, bins=30, alpha=0.5, color='red', label='Велика вісь')\n",
    "plt.xlabel(\"Розмір (мкм)\")\n",
    "plt.ylabel(\"Кількість синапсів\")\n",
    "plt.legend()\n",
    "plt.show()"
   ]
  },
  {
   "cell_type": "markdown",
   "metadata": {},
   "source": [
    "### Порівняння масок та колокалізація"
   ]
  },
  {
   "cell_type": "code",
   "execution_count": null,
   "metadata": {},
   "outputs": [],
   "source": [
    "neuron_mask_fin.dtype  # переконаємось, що у нас бінарні маски"
   ]
  },
  {
   "cell_type": "markdown",
   "metadata": {},
   "source": [
    "Візуалізація одразу двох масок двох масок\n",
    "\n",
    "> [!NOTE]\n",
    "> Тут є функція для відображення двох масок на одному зображенні, що може бути корисною для порівняння результатів сегментації.\n",
    ">"
   ]
  },
  {
   "cell_type": "code",
   "execution_count": null,
   "metadata": {},
   "outputs": [],
   "source": [
    "def two_mask_rgb_overlay(mask1: np.ndarray, mask2: np.ndarray):    \n",
    "\n",
    "    mask_overlap = np.zeros((*mask1.shape, 3), dtype=np.uint8)  # створюємо порожненє RGB зображення\n",
    "    mask_overlap[mask1, 0] = 255       # червоним кольором буде відображена маска першого каналу\n",
    "    mask_overlap[mask2, 1] = 255      # зеленим - другого каналу \n",
    "\n",
    "    plt.figure(figsize=(8,8))\n",
    "    plt.imshow(mask_overlap)\n",
    "    plt.imshow(mask_overlap)\n",
    "\n",
    "two_mask_rgb_overlay(neuron_mask_fin, synapse_mask_fin)"
   ]
  },
  {
   "cell_type": "code",
   "execution_count": null,
   "metadata": {},
   "outputs": [],
   "source": [
    "# перетин масок, логічне AND, працює якщо обидві маски bool\n",
    "neuron_in_synapse_mask = neuron_mask_fin * synapse_mask_fin\n",
    "\n",
    "# обєднання масок, логічне OR, працює якщо обидві маски bool  \n",
    "neuron_with_synapse_mask = neuron_mask_fin + synapse_mask_fin\n",
    "\n",
    "\n",
    "two_mask_rgb_overlay(neuron_with_synapse_mask, neuron_in_synapse_mask)"
   ]
  },
  {
   "cell_type": "markdown",
   "metadata": {},
   "source": [
    "Розрахуємо відносну площу перетину двох масок (Intersection over Union/IoU або Jaccard index)"
   ]
  },
  {
   "cell_type": "code",
   "execution_count": null,
   "metadata": {},
   "outputs": [],
   "source": [
    "# в даному випадку приклад може бути не дуже вдалий, оскільки маски різної природи,\n",
    "# і IoU відображає відносну частку маски нейрона, яка розташовується в синапсах\n",
    "\n",
    "IoU = np.sum(neuron_in_synapse_mask) / np.sum(neuron_with_synapse_mask)\n",
    "print(f\"Intersection over Union (IoU) = {IoU:.4f}\")"
   ]
  },
  {
   "cell_type": "markdown",
   "metadata": {},
   "source": [
    "### Додатковий приклад оцінки колокалізації\n",
    "\n",
    "Зберемо приклад pipline для оцінки колокалізації аксонів та мієлінових оболонок на візуалізації поперечного перерізу сідничого нерва.\n",
    "\n",
    "Зважайте, що кожен етап цього демонстраційного прикладу можна покращити, але це вже буде завданням для вас."
   ]
  },
  {
   "cell_type": "code",
   "execution_count": null,
   "metadata": {},
   "outputs": [],
   "source": [
    "nerve_z_stack = skimage.io.imread('demo_data/4D_nerve_spectral_z-stack.tif')\n",
    "print(nerve_z_stack.shape)  # (z, s, y, x)"
   ]
  },
  {
   "cell_type": "markdown",
   "metadata": {},
   "source": [
    "Попередня обробк даних"
   ]
  },
  {
   "cell_type": "code",
   "execution_count": null,
   "metadata": {},
   "outputs": [],
   "source": [
    "# розділимо спектральні канали та отримаємо максимальну проекцію по z для кожного каналу\n",
    "mip_myelin = np.max(nerve_z_stack[:,0], axis=0)\n",
    "mip_axon = np.max(nerve_z_stack[:,1], axis=0)\n",
    "\n",
    "# видалими фонову інтенсивність\n",
    "mip_myelin = tm.background_correction(mip_myelin)\n",
    "mip_axon = tm.background_correction(mip_axon)\n",
    "\n",
    "two_mask_side_by_side(mip_axon, mip_myelin)  # використаємо функцію вже наявну функцію для відображення двох 2D масивів/картинок"
   ]
  },
  {
   "cell_type": "markdown",
   "metadata": {},
   "source": [
    "Побудуємо початкові маски та ярлики для аксонів та мієлінових оболонок"
   ]
  },
  {
   "cell_type": "code",
   "execution_count": null,
   "metadata": {},
   "outputs": [],
   "source": [
    "# викнемо closing щоб не з'єднати сусідні аксони\n",
    "# зменшимо opening щоб не відфільтрувати тонкі аксони\n",
    "mask_axon = simple_masking(mip_axon, median_filter=1, closing=0, opening=2)\n",
    "labels_axon = skimage.measure.label(mask_axon)\n",
    "print(f\"Кількість аксонів: {labels_axon.max()}\")\n",
    "\n",
    "\n",
    "# викнемо closing щоб не з'єднати сусідні фрагменти мієліну\n",
    "# більший opening щоб видалити окремі фрагменти мієліну\n",
    "mask_myelin = simple_masking(mip_myelin, median_filter=1, closing=0, opening=3)\n",
    "labels_myelin = skimage.measure.label(mask_myelin)\n",
    "print(f\"Кількість фрагментів мієліну: {labels_myelin.max()}\")\n",
    "\n",
    "\n",
    "two_mask_side_by_side(labels_axon, labels_myelin)\n",
    "two_mask_rgb_overlay(mask_axon, mask_myelin)"
   ]
  },
  {
   "cell_type": "markdown",
   "metadata": {},
   "source": [
    "Просте маскування не дуже впоралось із такими тонкими структурами, тож для спрощеного аналізу виокремомо тільки ті аксони, що мають мієлінову оболонку."
   ]
  },
  {
   "cell_type": "code",
   "execution_count": null,
   "metadata": {},
   "outputs": [],
   "source": [
    "# знайдемо фрагменти мієліну, що перетинаються з аксонами\n",
    "mask_myelin_in_axon = mask_myelin & mask_axon\n",
    "\n",
    "two_mask_side_by_side(mask_myelin, mask_myelin_in_axon)\n",
    "\n",
    "\n",
    "# дістанемо значення ярликів мієліна, що перетинаються з аксонами\n",
    "myelin_in_axon_labels = np.unique(labels_myelin[mask_myelin_in_axon])\n",
    "print(myelin_in_axon_labels)\n",
    "print(f\"Кількість фрагментів мієліна, що перетинаються з аксонами: {len(myelin_in_axon_labels)}\")\n",
    "\n",
    "\n",
    "# відберемо тільки ті фрагменти мієліна, що перетинаються з аксонами\n",
    "mask_myelin_in_axon = np.isin(labels_myelin, myelin_in_axon_labels)\n",
    "two_mask_rgb_overlay(mask_myelin, mask_myelin_in_axon)"
   ]
  },
  {
   "cell_type": "code",
   "execution_count": null,
   "metadata": {},
   "outputs": [],
   "source": [
    "# тепер повторимо відбір для аксонів\n",
    "\n",
    "# знайдемо аксони, що перетинаються з мієліном\n",
    "mask_axon_in_myelin = mask_axon & mask_myelin\n",
    "\n",
    "two_mask_side_by_side(mask_axon, mask_axon_in_myelin)\n",
    "\n",
    "\n",
    "# дістанемо значення ярликів мієліна, що перетинаються з аксонами\n",
    "axon_with_myelin_lab = np.unique(labels_axon[mask_axon_in_myelin])\n",
    "print(axon_with_myelin_lab)\n",
    "print(f\"Кількість фрагментів аксона, що перетинаються з мієліном: {len(axon_with_myelin_lab)}\")\n",
    "\n",
    "\n",
    "# відберемо тільки ті фрагменти мієліна, що перетинаються з аксонами\n",
    "mask_axon_with_myelin = np.isin(labels_axon, axon_with_myelin_lab)\n",
    "two_mask_rgb_overlay(mask_axon, mask_axon_with_myelin)"
   ]
  },
  {
   "cell_type": "code",
   "execution_count": null,
   "metadata": {},
   "outputs": [],
   "source": [
    "# подивимось на обидві кінцеві маски\n",
    "two_mask_rgb_overlay(mask_axon_with_myelin, mask_myelin_in_axon)"
   ]
  },
  {
   "cell_type": "markdown",
   "metadata": {},
   "source": [
    "Оцінимо колокалізацію аксонів та мієлінових оболонок\n",
    "\n",
    "> [!NOTE]\n",
    "> Тут є функція для обчислення IoU між двома масками, що може бути корисною для вас.\n",
    ">"
   ]
  },
  {
   "cell_type": "code",
   "execution_count": null,
   "metadata": {},
   "outputs": [],
   "source": [
    "# створимо функцію для розрахунку IoU\n",
    "def iou_calculation(mask1: np.ndarray, mask2: np.ndarray):\n",
    "    intersection = mask1 * mask2\n",
    "    union = mask1 + mask2\n",
    "    iou_val = np.sum(intersection) / np.sum(union) if np.sum(union) != 0 else 0.0\n",
    "    return iou_val\n",
    "\n",
    "axons_iou = iou_calculation(mask_axon_with_myelin, mask_myelin_in_axon)\n",
    "print(f\"IoU для аксонів та мієліну: {axons_iou:.4f}\")\n"
   ]
  },
  {
   "cell_type": "markdown",
   "metadata": {},
   "source": [
    "Подивимось на розподіл морфологічних характеристик аксонів"
   ]
  },
  {
   "cell_type": "code",
   "execution_count": null,
   "metadata": {},
   "outputs": [],
   "source": [
    "# створимо з масок ярлики та обчислюжмо їх з урахуванням інтенсивності початкових зображень\n",
    "props_axons = skimage.measure.regionprops(labels_axon,\n",
    "                                          intensity_image=mip_axon)\n",
    "\n",
    "labels_axon_with_myelin = skimage.measure.label(mask_axon_with_myelin)\n",
    "props_axons_with_myelin = skimage.measure.regionprops(labels_axon_with_myelin,\n",
    "                                                     intensity_image=mip_axon)"
   ]
  },
  {
   "cell_type": "code",
   "execution_count": null,
   "metadata": {},
   "outputs": [],
   "source": [
    "# виокремомо малу та велику осі еліпса\n",
    "axons_all = []\n",
    "axons_with_myelin = []\n",
    "\n",
    "for prop, prop_with_myelin in zip(props_axons, props_axons_with_myelin):\n",
    "    axons_all.append(prop.area)\n",
    "    axons_with_myelin.append(prop_with_myelin.area)\n",
    "\n",
    "axons_all = np.array(axons_all)\n",
    "axons_with_myelin = np.array(axons_with_myelin)\n",
    "\n",
    "\n",
    "# щоб перевезти розмір у пікселях у мікрометри, треба знати розмір пікселя\n",
    "pixel_size = 0.09  # мкм^2/піксель\n",
    "axons_all = axons_all * pixel_size\n",
    "axons_with_myelin = axons_with_myelin * pixel_size\n",
    "\n",
    "\n",
    "# побудова гістограм розподілу розмірів синапсів\n",
    "plt.figure(figsize=(6,6))\n",
    "plt.hist(axons_all, bins=30, alpha=0.5, color='blue', label='Всі аксони')\n",
    "plt.hist(axons_with_myelin, bins=30, alpha=0.5, color='red', label='Аксони з мієліном')\n",
    "plt.xlabel(\"Площа перерізу (мкм^2)\")\n",
    "plt.ylabel(\"Кількість аксонів\")\n",
    "plt.legend()\n",
    "plt.show()"
   ]
  },
  {
   "cell_type": "markdown",
   "metadata": {},
   "source": [
    "# Застосування масок та ярликів до серій зображень\n",
    "---"
   ]
  },
  {
   "cell_type": "markdown",
   "metadata": {},
   "source": [
    "### Застосування масок до 3D зображень"
   ]
  },
  {
   "cell_type": "code",
   "execution_count": null,
   "metadata": {},
   "outputs": [],
   "source": [
    "hek_z_stack = skimage.io.imread('demo_data/3D_HEK_z-stack.tif')\n",
    "print(hek_z_stack.shape)  # перевіримо розміри зображення"
   ]
  },
  {
   "cell_type": "markdown",
   "metadata": {},
   "source": [
    "Попередня обробка 3D стеку"
   ]
  },
  {
   "cell_type": "code",
   "execution_count": null,
   "metadata": {},
   "outputs": [],
   "source": [
    "# функція корекції фону працює з 3D зображеннями, тож ми можемо обробити всі площини одразу\n",
    "hek_z_stack = tm.background_correction(hek_z_stack)"
   ]
  },
  {
   "cell_type": "code",
   "execution_count": null,
   "metadata": {},
   "outputs": [],
   "source": [
    "hek_mip = np.max(hek_z_stack, axis=0)  # максимальна проєкція по Z\n",
    "\n",
    "# проєкція такого Z-стеку виглядає не дуже корисною, адже ми втрачаємо інформацію про глибину\n",
    "plt.imshow(hek_mip, cmap='jet')"
   ]
  },
  {
   "cell_type": "code",
   "execution_count": null,
   "metadata": {},
   "outputs": [],
   "source": [
    "# наша проста функція для маскування працює із 3D зображеннями\n",
    "hek_3d_mask = simple_masking(hek_z_stack, median_filter=3, closing=5, opening=5)"
   ]
  },
  {
   "cell_type": "markdown",
   "metadata": {},
   "source": [
    "Адаптація простої функції для 3D зображень"
   ]
  },
  {
   "cell_type": "code",
   "execution_count": null,
   "metadata": {},
   "outputs": [],
   "source": [
    "# замінюємо двовимірні морфологічні елементи на тривимірні сфери\n",
    "def simple_masking_3d(image: np.ndarray, median_filter:int=0,\n",
    "                   closing:int=3, opening:int=3):\n",
    "    # попередня обробка зображення медіанним фільтром\n",
    "    preprocessed_image = skimage.filters.median(image,\n",
    "                                                footprint=skimage.morphology.ball(median_filter))  # заміна диска на сферу\n",
    "    \n",
    "    # побудова маски за допомогою порогу Отсу\n",
    "    otsu_mask = preprocessed_image > skimage.filters.threshold_otsu(preprocessed_image)\n",
    "    \n",
    "    # закриттям маски позбавляємось дрібних прогалин\n",
    "    pre_filtered_mask = skimage.morphology.closing(otsu_mask,\n",
    "                                                   footprint=skimage.morphology.ball(closing))  # заміна диска на сферу\n",
    "\n",
    "    # відкриттям маски видаляємо дрібні артефакти поза клітиною\n",
    "    filtered_mask = skimage.morphology.opening(pre_filtered_mask,\n",
    "                                               footprint=skimage.morphology.ball(opening))  # заміна диска на сферу\n",
    "\n",
    "    return filtered_mask"
   ]
  },
  {
   "cell_type": "code",
   "execution_count": null,
   "metadata": {},
   "outputs": [],
   "source": [
    "hek_3d_mask = simple_masking_3d(hek_z_stack, median_filter=3, closing=5, opening=0)\n",
    "print(hek_3d_mask.shape)"
   ]
  },
  {
   "cell_type": "code",
   "execution_count": null,
   "metadata": {},
   "outputs": [],
   "source": [
    "z_plane = 5\n",
    "two_mask_side_by_side(hek_z_stack[z_plane], hek_3d_mask[z_plane])"
   ]
  },
  {
   "cell_type": "markdown",
   "metadata": {},
   "source": [
    "Подивимось на маску з іншого боку"
   ]
  },
  {
   "cell_type": "code",
   "execution_count": null,
   "metadata": {},
   "outputs": [],
   "source": [
    "hek_3d_mask.shape"
   ]
  },
  {
   "cell_type": "code",
   "execution_count": null,
   "metadata": {},
   "outputs": [],
   "source": [
    "xy_plane = 130\n",
    "two_mask_side_by_side(hek_z_stack[:,:,xy_plane], hek_3d_mask[:,:,xy_plane])  # не дуже наочно, адже всього 15 шарів по Z"
   ]
  },
  {
   "cell_type": "code",
   "execution_count": null,
   "metadata": {},
   "outputs": [],
   "source": [
    "xy_plane = 130\n",
    "sides_aspect = 5\n",
    "\n",
    "\n",
    "# параметр aspect дозволяє змінити співвідношення сторін зображення\n",
    "plt.figure(figsize=(12, 12))\n",
    "\n",
    "plt.subplot(121)\n",
    "plt.imshow(hek_z_stack[:,xy_plane,:], cmap=\"magma\", aspect=sides_aspect)\n",
    "\n",
    "plt.subplot(122)\n",
    "plt.imshow(hek_3d_mask[:,xy_plane,:], cmap=\"magma\", aspect=sides_aspect)\n",
    "\n",
    "plt.show()"
   ]
  },
  {
   "cell_type": "markdown",
   "metadata": {},
   "source": [
    "Збережемо 3D маску для подальшого використання"
   ]
  },
  {
   "cell_type": "code",
   "execution_count": null,
   "metadata": {},
   "outputs": [],
   "source": [
    "skimage.io.imsave('course_data/3D_hek_mask.tif', hek_3d_mask)"
   ]
  },
  {
   "cell_type": "markdown",
   "metadata": {},
   "source": [
    "### Застосування масок до візуалізації живих клітин"
   ]
  },
  {
   "cell_type": "markdown",
   "metadata": {},
   "source": [
    "Завантаження повного 4D стеку для клітин HEK і інспекція каналів"
   ]
  },
  {
   "cell_type": "code",
   "execution_count": null,
   "metadata": {},
   "outputs": [],
   "source": [
    "hek_spectral_and_time = skimage.io.imread('demo_data/4D_HEK_spectral_time_series.tiff')\n",
    "print(hek_spectral_and_time.shape)"
   ]
  },
  {
   "cell_type": "code",
   "execution_count": null,
   "metadata": {},
   "outputs": [],
   "source": [
    "hek_ch0 = hek_spectral_and_time[0]  # канал 0, кальцієвий індикатор Fluo-4\n",
    "hek_ch1 = hek_spectral_and_time[1]  # канал 1, білок інтересу\n",
    "hek_ch2 = hek_spectral_and_time[2]  # канал 2, наскрізне світло\n",
    "\n",
    "\n",
    "frame_i = 5  # виберемо п'ятий кадр (рахунок з нуля)\n",
    "\n",
    "plt.figure(figsize=(12, 12))\n",
    "\n",
    "plt.subplot(131)\n",
    "plt.imshow(hek_ch0[frame_i], cmap='magma')\n",
    "plt.title('Канал 0, Fluo-4')\n",
    "\n",
    "plt.subplot(132)\n",
    "plt.imshow(hek_ch1[frame_i], cmap='magma')\n",
    "plt.title('Канал 1, білок інтересу')\n",
    "\n",
    "plt.subplot(133)\n",
    "plt.imshow(hek_ch2[frame_i], cmap='gray')\n",
    "plt.title('Канал 2, наскрізне світло')"
   ]
  },
  {
   "cell_type": "markdown",
   "metadata": {},
   "source": [
    "Попередня обробка серії зображень"
   ]
  },
  {
   "cell_type": "code",
   "execution_count": null,
   "metadata": {},
   "outputs": [],
   "source": [
    "# можна обробити весь стек одразу, але \n",
    "# але чи це коректно для даних з часовим виміром - питання дискусійне\n",
    "# альтернативно можна обробити кадри по одному в циклі\n",
    "\n",
    "# створимо порожні списки для збереження результатів\n",
    "hek_ca = []\n",
    "hek_fp = []\n",
    "\n",
    "# цикл по кадрах одразу двох каналів з виористанням zip\n",
    "for ca_frame, fp_frame in zip(hek_ch0, hek_ch1):\n",
    "    hek_ca.append(tm.background_correction(ca_frame))\n",
    "    hek_fp.append(tm.background_correction(fp_frame))\n",
    "\n",
    "# перетворимо списки назад в numpy масиви\n",
    "hek_ca = np.array(hek_ca)\n",
    "hek_fp = np.array(hek_fp)\n"
   ]
  },
  {
   "cell_type": "markdown",
   "metadata": {},
   "source": [
    "А тепер застосуємо створену на самому початку маску для оцінки інтенсивності в кожному кадрі"
   ]
  },
  {
   "cell_type": "code",
   "execution_count": null,
   "metadata": {},
   "outputs": [],
   "source": [
    "hek_mask = bad_image_mask  # замінимо назву на більш підходящу\n",
    "\n",
    "# пригадаємо маску\n",
    "plt.imshow(hek_mask)"
   ]
  },
  {
   "cell_type": "markdown",
   "metadata": {},
   "source": [
    "Розрахуємо інтенсивність в межах маски для кожного кадру з використанням for loop"
   ]
  },
  {
   "cell_type": "code",
   "execution_count": null,
   "metadata": {},
   "outputs": [],
   "source": [
    "ca_intensity_loop = []\n",
    "\n",
    "for ca_frame in hek_ca:\n",
    "    ca_intensity_loop.append(np.mean(ca_frame[hek_mask]))\n",
    "\n",
    "ca_intensity_loop = np.array(ca_intensity_loop)  # перетворимо список в numpy масив для подальшої роботи\n",
    "\n",
    "plt.plot(ca_intensity_loop)"
   ]
  },
  {
   "cell_type": "markdown",
   "metadata": {},
   "source": [
    "Розрахуємо інтенсивність в межах маски для кожного кадру з використанням функцій numpy"
   ]
  },
  {
   "cell_type": "code",
   "execution_count": null,
   "metadata": {},
   "outputs": [],
   "source": [
    "ca_intensity = np.mean(hek_ca, axis=(1,2), where=hek_mask)  # використаємо параметр where щоб врахувати маску\n",
    "\n",
    "plt.plot(ca_intensity)"
   ]
  },
  {
   "cell_type": "code",
   "execution_count": null,
   "metadata": {},
   "outputs": [],
   "source": [
    "fp_intensity = np.mean(hek_fp, axis=(1,2), where=hek_mask)  # розрахуємо інтенсивності і для білка інтересу\n",
    "\n",
    "# відображення одразу двох профілів зміни інтенсивності\n",
    "plt.figure(figsize=(6,6))\n",
    "plt.plot(ca_intensity, '-o', color='blue', label='Ca2+')\n",
    "plt.plot(fp_intensity, '-o', color='red', label='FP')\n",
    "plt.xlabel(\"Кадр\")\n",
    "plt.ylabel(\"Середня інтенсивність клітини (a.u.)\")\n",
    "plt.legend()\n",
    "plt.show()"
   ]
  },
  {
   "cell_type": "markdown",
   "metadata": {},
   "source": [
    "Для порівняння різних дослідів зручно використовувати не абсолютні значення інтенсивності, а амплітуду змін (ΔF)"
   ]
  },
  {
   "cell_type": "code",
   "execution_count": null,
   "metadata": {},
   "outputs": [],
   "source": [
    "# відносні зміни інтенсивності\n",
    "ca_f0 = np.mean(ca_intensity[:3])  # середня інтенсивність індиатора Ca2+ до стимулу (перші 3 кадри)\n",
    "fp_f0 = np.mean(fp_intensity[:3])  # середня інтенсивність флуоресцентного білка до стимулу (перші 3 кадри)\n",
    "print(ca_f0, fp_f0)\n",
    "\n",
    "ca_df = ca_intensity - ca_f0  # відносні зміни інтенсивності індикатора Ca2+\n",
    "fp_df = fp_intensity - fp_f0  # відносні зміни інтенсивності флуоресцентного білка\n",
    "\n",
    "\n",
    "# відображення двох профілів змін інтенсивності\n",
    "plt.figure(figsize=(6,6))\n",
    "plt.plot(ca_df, '-o', color='blue', label='Ca2+')\n",
    "plt.plot(fp_df, '-o', color='red', label='FP')\n",
    "plt.xlabel(\"Кадр\")\n",
    "plt.ylabel(\"Зміни середньої інтенсивності клітини (a.u.)\")\n",
    "plt.legend()\n",
    "plt.show()"
   ]
  },
  {
   "cell_type": "markdown",
   "metadata": {},
   "source": [
    "Або навіть відносні зміни (ΔF/F0), вираження у відсотках відносно початкового рівня"
   ]
  },
  {
   "cell_type": "code",
   "execution_count": null,
   "metadata": {},
   "outputs": [],
   "source": [
    "ca_df_f0 = ca_df / ca_f0  # відносні зміни інтенсивності індикатора Ca2+ у відсотках\n",
    "fp_df_f0 = fp_df / fp_f0  # відносні зміни інтенсивності флуоресцентного білка у відсотках\n",
    "\n",
    "# відображення двох профілів відносних змін інтенсивності\n",
    "plt.figure(figsize=(6,6))\n",
    "plt.plot(ca_df_f0, '-o', color='blue', label='Ca2+')\n",
    "plt.plot(fp_df_f0, '-o', color='red', label='FP')\n",
    "plt.xlabel(\"Кадр\")\n",
    "plt.ylabel(\"Відносні зміни інтенсивності клітини (ΔF/F0)\")\n",
    "plt.legend()\n",
    "plt.show()"
   ]
  },
  {
   "cell_type": "markdown",
   "metadata": {},
   "source": [
    "# Збереження результатів аналізу\n",
    "---"
   ]
  },
  {
   "cell_type": "markdown",
   "metadata": {},
   "source": [
    "### \"Охайні\" дані (Tidy data)\n",
    "\n",
    "1. Кожна змінна утворює стовпець.\n",
    "2. Кожне спостереження утворює рядок.\n",
    "3. Кожен новий набір спостережень утворює східну таблицю.\n",
    "\n",
    "![TIDY](pic/tidy.png)\n",
    "\n",
    "Більше про tidy data можна почитати в чудових підручних по аналізу даних з використанням [Python](https://aeturrell.github.io/python4DS/data-tidy.html) та [R](https://r4ds.hadley.nz/data-tidy.html)."
   ]
  },
  {
   "cell_type": "markdown",
   "metadata": {},
   "source": [
    "__Які дані не є tidy__\n",
    "\n",
    "- Заголовки стовпців - це значення, а не назви змінних.\n",
    "- Кілька змінних зберігаються в одному стовпці.\n",
    "- Змінні зберігаються як у рядках, так і в стовпцях.\n",
    "- Кілька різних типів одиниць спостереження зберігаються в одній таблиці (наприклад, різні серії дослідів з різними виміряними параметрами).\n",
    "- Одна одиниця спостереження зберігається в кількох таблицях.\n",
    "\n",
    "![UNTIDY](pic/untidy.png)"
   ]
  },
  {
   "cell_type": "markdown",
   "metadata": {},
   "source": [
    "### Зберігаємо результати аналізу морфології та інтенсивності регіонів синапсів"
   ]
  },
  {
   "cell_type": "code",
   "execution_count": null,
   "metadata": {},
   "outputs": [],
   "source": [
    "# створимо перелік колонок вихідної таблиці\n",
    "neuron_columns = ['id',            # унікальний ідентифікатор зображення що було проаналізоване\n",
    "                  'synapse_num',   # номер ярлику синапсу в межах зображення\n",
    "                  'ch',            # канал, білок інтересу ('fp') чи структурний білок ('psd95')\n",
    "                  'int',           # середня інтенсивність, a.u.\n",
    "                  'area',          # площа постсинаптичного ущільнення, мкм^2\n",
    "                  'minor_length',  # мала піввісь постсинаптичного ущільнення, мкм\n",
    "                  'major_length']  # велика піввісь постсинаптичного ущільнення, мкм\n",
    "\n",
    "neuron_df = pd.DataFrame(columns=neuron_columns)\n",
    "\n",
    "# параметри зображення\n",
    "neuron_id = 'neuron_01'   # унікальний ідентифікатор зображення\n",
    "neuron_pixel_size = 0.18  # мкм/піксель\n"
   ]
  },
  {
   "cell_type": "markdown",
   "metadata": {},
   "source": [
    "Додаємо в таблицю дані для спектрального каналу структурного білка"
   ]
  },
  {
   "cell_type": "code",
   "execution_count": null,
   "metadata": {},
   "outputs": [],
   "source": [
    "for prop in synapse_props_full:\n",
    "    # створюємо рядок для таблиці у вигляді словника\n",
    "    synapse_dict = {'id': [neuron_id],                                             # унікальний ідентифікатор зображення\n",
    "                    'synapse_num': [prop.label],                                   # номер ярлику синапсу в межах зображення\n",
    "                    'ch': ['psd95'],                                               # канал, білок інтересу\n",
    "                    'int': [prop.intensity_mean],                                  # середня інтенсивність\n",
    "                    'area': [prop.area * neuron_pixel_size**2],                    # площа постсинаптичного ущільнення, мкм^2\n",
    "                    'minor_length': [prop.minor_axis_length * neuron_pixel_size],  # мала піввісь постсинаптичного ущільнення, мкм\n",
    "                    'major_length': [prop.major_axis_length * neuron_pixel_size]}  # велика піввісь постсинаптичного ущільнення, мкм\n",
    "\n",
    "    # приєднуємо новий рядок до таблиці\n",
    "    neuron_df = pd.concat([neuron_df, pd.DataFrame(synapse_dict)], ignore_index=True)\n",
    "\n",
    "neuron_df.head()  # переглянемо перші 5 рядків таблиці"
   ]
  },
  {
   "cell_type": "markdown",
   "metadata": {},
   "source": [
    "Додаємо в таблицю дані для спектрального каналу білка інтересу"
   ]
  },
  {
   "cell_type": "code",
   "execution_count": null,
   "metadata": {},
   "outputs": [],
   "source": [
    "# викорастеємо властивості ярликів для синапсів, але інтенсивність візьмемо з каналу білка інтересу\n",
    "for prop in synapse_props_full:\n",
    "    synapse_mask = synapse_labels == prop.label  # маска поточного синапсу\n",
    "    fp_mean_intensity = np.mean(neuron_image, where=synapse_mask)  # середня інтенсивність білка інтересу в синапсі\n",
    "\n",
    "    synapse_dict = {'id': [neuron_id],                                             # унікальний ідентифікатор зображення\n",
    "                    'synapse_num': [prop.label],                                   # номер ярлику синапсу в межах зображення\n",
    "                    'ch': ['fp'],                                                  # канал, білок інтересу\n",
    "                    'int': [fp_mean_intensity],                                    # середня інтенсивність\n",
    "                    'area': [prop.area * neuron_pixel_size**2],                    # площа постсинаптичного ущільнення, мкм^2\n",
    "                    'minor_length': [prop.minor_axis_length * neuron_pixel_size],  # мала піввісь постсинаптичного ущільнення, мкм\n",
    "                    'major_length': [prop.major_axis_length * neuron_pixel_size]}  # велика піввісь постсинаптичного ущільнення, мкм\n",
    "\n",
    "    neuron_df = pd.concat([neuron_df, pd.DataFrame(synapse_dict)], ignore_index=True)\n",
    "    \n",
    "neuron_df.tail()  # переглянемо перші 5 рядків таблиці"
   ]
  },
  {
   "cell_type": "markdown",
   "metadata": {},
   "source": [
    "Збережемо таблицю в файл CSV"
   ]
  },
  {
   "cell_type": "code",
   "execution_count": null,
   "metadata": {},
   "outputs": [],
   "source": [
    "print(f\"Загальна кількість синапсів в таблиці: {neuron_df.shape[0]}\")\n",
    "neuron_df.to_csv('course_data/neuron_synapse_analysis.csv', index=False)  # збережемо таблицю в файл CSV"
   ]
  },
  {
   "cell_type": "markdown",
   "metadata": {},
   "source": [
    "### Зберігаємо результати аналізу змін концентрації кальцію в часі"
   ]
  },
  {
   "cell_type": "code",
   "execution_count": null,
   "metadata": {},
   "outputs": [],
   "source": [
    "# створимо перелік колонок вихідної таблиці\n",
    "hek_columns = ['id',            # унікальний ідентифікатор зображення що було проаналізоване\n",
    "               'frame_num',  # номер кадру\n",
    "               'time',       # абсолютний час від початку зйомки, с\n",
    "               'ch',         # канал, індикатор кальцію ('ca') чи білок інтересу ('fp')\n",
    "               'int',        # середня інтенсивність, a.u.\n",
    "               'int_df',     # зміна інтенсивності, ΔF\n",
    "               'int_df_f0']  # відносна зміна інтенсивності, ΔF/F0\n",
    "\n",
    "hek_df = pd.DataFrame(columns=hek_columns)\n",
    "\n",
    "# параметри зображення\n",
    "hek_id = 'hek_01'                       # унікальний ідентифікатор зображення\n",
    "hek_frame_rate = 2                      # інтервал між кадрами 2 секунди\n",
    "hek_frames_num = ca_intensity.shape[0]  # кількість кадрів у серії\n",
    "hek_time_line = np.linspace(0,                                 # початок відліку часу\n",
    "                           (hek_frames_num-1)*hek_frame_rate,  # кінець відліку часу\n",
    "                           num=hek_frames_num)                 # кількість часових точкок\n",
    "\n",
    "print(hek_time_line)"
   ]
  },
  {
   "cell_type": "markdown",
   "metadata": {},
   "source": [
    "Додаємо результати аналізу в таблицю"
   ]
  },
  {
   "cell_type": "code",
   "execution_count": null,
   "metadata": {},
   "outputs": [],
   "source": [
    "# при створенні таблиці масиви значень треба перетворити в списки\n",
    "ca_dict = {'id': [hek_id]*hek_frames_num,             # унікальний ідентифікатор зображення\n",
    "           'frame_num': list(range(hek_frames_num)),  # номер кадру\n",
    "           'time': list(hek_time_line),               # абсолютний час від початку зйомки, с\n",
    "           'ch': ['ca']*hek_frames_num,               # канал, індикатор кальцію\n",
    "           'int': list(ca_intensity),                 # середня інтенсивність, a.u.\n",
    "           'int_df': list(ca_df),                     # зміна інтенсивності, ΔF\n",
    "           'int_df_f0': list(ca_df_f0)}               # зміна інтенсивності, ΔF/F0\n",
    "\n",
    "fp_dict = {'id': [hek_id]*hek_frames_num,             # унікальний ідентифікатор зображення\n",
    "           'frame_num': list(range(hek_frames_num)),  # номер кадру\n",
    "           'time': list(hek_time_line),               # абсолютний час від початку зйомки, с\n",
    "           'ch': ['fp']*hek_frames_num,               # канал, індикатор кальцію\n",
    "           'int': list(fp_intensity),                 # середня інтенсивність, a.u.\n",
    "           'int_df': list(fp_df),                     # зміна інтенсивності, ΔF\n",
    "           'int_df_f0': list(fp_df_f0)}               # зміна інтенсивності, ΔF/F0\n",
    "\n",
    "# приєднуємо нові рядки до таблиці\n",
    "hek_df = pd.concat([hek_df, pd.DataFrame(ca_dict), pd.DataFrame(fp_dict)], ignore_index=True)\n",
    "\n",
    "hek_df.head()  # переглянемо перші 5 рядків таблиці"
   ]
  },
  {
   "cell_type": "markdown",
   "metadata": {},
   "source": [
    "Збережемо таблицю в файл CSV"
   ]
  },
  {
   "cell_type": "code",
   "execution_count": null,
   "metadata": {},
   "outputs": [],
   "source": [
    "hek_df.to_csv('course_data/hek_time_series_analysis.csv', index=False)"
   ]
  },
  {
   "cell_type": "markdown",
   "metadata": {},
   "source": [
    "# Пакети python\n",
    "---"
   ]
  },
  {
   "cell_type": "markdown",
   "metadata": {},
   "source": [
    "Пакети python представляють набір модулів, що об'єднані спільною тематикою або призначенням. Вони дозволяють організувати код, полегшити його повторне використання та спростити управління залежностями.\n",
    "\n",
    "Для перетворення набору модулів у пакет, створюється директорія з ім'ям пакету, яка містить файл `__init__.py` (може бути порожнім).\n",
    "\n",
    "Додаткові файли в складі пакету включають службовий файл `pyproject.toml` (для опису метаданих пакету і залежностей пакету), `README.md` (для документації) та `LICENSE` (для ліцензії).\n",
    "\n",
    "Структура шаблону пакету python:\n",
    "\n",
    "```\n",
    "└── package-template/          # директорія пакету\n",
    "    ├── src/                       # загальна директорія із вихідним кодом пакету\n",
    "    │   └── package_template/      # директорія із модулями пакету\n",
    "    │       ├── __init__.py        # службовий файл директорії\n",
    "    │       └── module.py          # код модуля у складі пакету\n",
    "    │\n",
    "    ├── pyproject.toml        # конфігураційний файл\n",
    "    ├── README.md             # файл опису\n",
    "    ├── LICENSE               # ліцензія\n",
    "    └── .gitignore            # службовий файл git\n",
    "```"
   ]
  },
  {
   "cell_type": "markdown",
   "metadata": {},
   "source": [
    "# Завдання\n",
    "---\n",
    "\n",
    "Щодо аналізу даних:\n",
    "- Адаптувати роглянуті підходи до аналізу зображень, створити функцію що дозволяла би отримати декілька параметрів демонстріціно зображення та зберігала би їх у вигляді tidy data frame. Опис параметрів, що необхідно оцінити можна знайти в завданнях до демонстраційних даних у файлі `DESCRIPTION.md`.\n",
    "- За наявності власних зображень, створити аналогічну функцію для оцінки цікавих вам параметрів (інтенсивності регіонів інтересу, площі, накладання масок для різних спектральних каналів тощо).\n",
    "\n",
    "\n",
    "Щодо оформлення коду:\n",
    "- Зібрати всі функції що були створені впродовж зустрічей в модуль.\n",
    "- Створити копію шаблону пакету python в вашій робочій директорії `course_data`.\n",
    "- Розмістити створений модуль в директорії пакету та відредагувати конфугіраційний файл `pyproject.toml`.\n",
    "- За наявності власних функцій створених впродовж роботи, додати їх до створеного пакету.\n",
    "- Встановити пакет в editable режимі."
   ]
  }
 ],
 "metadata": {
  "kernelspec": {
   "display_name": "bioin-img",
   "language": "python",
   "name": "python3"
  },
  "language_info": {
   "codemirror_mode": {
    "name": "ipython",
    "version": 3
   },
   "file_extension": ".py",
   "mimetype": "text/x-python",
   "name": "python",
   "nbconvert_exporter": "python",
   "pygments_lexer": "ipython3",
   "version": "3.13.5"
  },
  "orig_nbformat": 4
 },
 "nbformat": 4,
 "nbformat_minor": 2
}
