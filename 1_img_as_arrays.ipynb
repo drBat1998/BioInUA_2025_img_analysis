{
 "cells": [
  {
   "cell_type": "markdown",
   "metadata": {},
   "source": [
    "I. Зображення як багатовимірні масиви та підготовка зображень до подальшого аналізу\n",
    "===================================================================================\n",
    "\n",
    "_Image Analysis with Python and Napari, Bioinformatics for Ukraine course, 6-24 October 2025, Kyiv, Ukraine._\n",
    "\n",
    "_© Borys Olifirov, 2025_"
   ]
  },
  {
   "cell_type": "markdown",
   "metadata": {},
   "source": [
    "__План:__\n",
    "- Основні властивості та відмінності списків _python_ та масивів _numpy_\n",
    "- Багатовимірні масиви _numpy_, індексація та операції з багатовимірними масивами\n",
    "- Зчитування та відображення зображень, кольорові мапи\n",
    "- Попередня обробка зображень, компенсація фонової інтенсивності"
   ]
  },
  {
   "cell_type": "markdown",
   "metadata": {},
   "source": [
    "---"
   ]
  },
  {
   "cell_type": "code",
   "execution_count": null,
   "metadata": {},
   "outputs": [],
   "source": [
    "import numpy as np\n",
    "import tifffile as tiff\n",
    "import matplotlib.pyplot as plt"
   ]
  },
  {
   "cell_type": "markdown",
   "metadata": {},
   "source": [
    "# Списки vs. масиви\n",
    "---"
   ]
  },
  {
   "cell_type": "markdown",
   "metadata": {},
   "source": [
    "### Основні властивості"
   ]
  },
  {
   "cell_type": "markdown",
   "metadata": {},
   "source": [
    "Списки python"
   ]
  },
  {
   "cell_type": "code",
   "execution_count": null,
   "metadata": {},
   "outputs": [],
   "source": [
    "demo_list = [0, 1, 4, 6, 2]\n",
    "demo_list"
   ]
  },
  {
   "cell_type": "code",
   "execution_count": null,
   "metadata": {},
   "outputs": [],
   "source": [
    "try:\n",
    "    demo_list > 1\n",
    "except TypeError:\n",
    "    print('Imposible operation!')"
   ]
  },
  {
   "cell_type": "code",
   "execution_count": null,
   "metadata": {},
   "outputs": [],
   "source": [
    "demo_list * 2  # подвоєння списку"
   ]
  },
  {
   "cell_type": "code",
   "execution_count": null,
   "metadata": {},
   "outputs": [],
   "source": [
    "demo_list = [1, False, 3, 'a']  # список може містити різні типи даних\n",
    "print(demo_list)\n",
    "\n",
    "print(type(demo_list[0]))\n",
    "print(type(demo_list[1]))\n",
    "print(type(demo_list[-1]))"
   ]
  },
  {
   "cell_type": "markdown",
   "metadata": {},
   "source": [
    "Масиви numpy"
   ]
  },
  {
   "cell_type": "code",
   "execution_count": null,
   "metadata": {},
   "outputs": [],
   "source": [
    "demo_arr = np.array([0, 1, 4, 6, 2])\n",
    "print(demo_arr)\n",
    "print(demo_arr.dtype)  # всі елементи масиву відносяться до одного типу даних"
   ]
  },
  {
   "cell_type": "code",
   "execution_count": null,
   "metadata": {},
   "outputs": [],
   "source": [
    "demo_arr_mixed = np.array([0, 1, 4, 'a', 2])\n",
    "print(demo_arr_mixed)\n",
    "print(demo_arr_mixed.dtype)  # Unicode, символьний тип дних"
   ]
  },
  {
   "cell_type": "code",
   "execution_count": null,
   "metadata": {},
   "outputs": [],
   "source": [
    "demo_arr > 1"
   ]
  },
  {
   "cell_type": "code",
   "execution_count": null,
   "metadata": {},
   "outputs": [],
   "source": [
    "try:\n",
    "    demo_arr > 1\n",
    "except TypeError:\n",
    "    print('Imposible operation')"
   ]
  },
  {
   "cell_type": "code",
   "execution_count": null,
   "metadata": {},
   "outputs": [],
   "source": [
    "demo_arr * 2  # застосування операції до кожного елементу масиву"
   ]
  },
  {
   "cell_type": "code",
   "execution_count": null,
   "metadata": {},
   "outputs": [],
   "source": [
    "try:\n",
    "    demo_arr_mixed * 2\n",
    "except TypeError:\n",
    "    print('Imposible operation')"
   ]
  },
  {
   "cell_type": "markdown",
   "metadata": {},
   "source": [
    "### Багатовимірність та індексація"
   ]
  },
  {
   "cell_type": "markdown",
   "metadata": {},
   "source": [
    "Двовимірний список"
   ]
  },
  {
   "cell_type": "code",
   "execution_count": null,
   "metadata": {},
   "outputs": [],
   "source": [
    "list_2d = [[1,2],[3,4],[5,6]]\n",
    "list_2d"
   ]
  },
  {
   "cell_type": "markdown",
   "metadata": {},
   "source": [
    "Двовимірний масив та їх індексація"
   ]
  },
  {
   "cell_type": "code",
   "execution_count": null,
   "metadata": {},
   "outputs": [],
   "source": [
    "arr_2d = np.array([[1,1,1],[2,2,2],[3,3,3]])  # \"зображення\" розміром 3x3 пікседі\n",
    "\n",
    "print(arr_2d.shape)\n",
    "arr_2d"
   ]
  },
  {
   "cell_type": "code",
   "execution_count": null,
   "metadata": {},
   "outputs": [],
   "source": [
    "arr_2d[0,0]"
   ]
  },
  {
   "cell_type": "code",
   "execution_count": null,
   "metadata": {},
   "outputs": [],
   "source": [
    "arr_2d[:2,0]"
   ]
  },
  {
   "cell_type": "code",
   "execution_count": null,
   "metadata": {},
   "outputs": [],
   "source": [
    "arr_2d[-1,-1]"
   ]
  },
  {
   "cell_type": "code",
   "execution_count": null,
   "metadata": {},
   "outputs": [],
   "source": [
    "arr_2d[0:2]  # другий індекс не включається в зріз"
   ]
  },
  {
   "cell_type": "code",
   "execution_count": null,
   "metadata": {},
   "outputs": [],
   "source": [
    "arr_2d[1:]  # перший індекс включається в зріз"
   ]
  },
  {
   "cell_type": "markdown",
   "metadata": {},
   "source": [
    "Векторизовані операції з масивами"
   ]
  },
  {
   "cell_type": "code",
   "execution_count": null,
   "metadata": {},
   "outputs": [],
   "source": [
    "arr_2d * 2"
   ]
  },
  {
   "cell_type": "code",
   "execution_count": null,
   "metadata": {},
   "outputs": [],
   "source": [
    "arr_2d[:2] >= 3"
   ]
  },
  {
   "cell_type": "code",
   "execution_count": null,
   "metadata": {},
   "outputs": [],
   "source": [
    "arr_2d + np.array([1,1])  # векторизовані операції із двома масивами можливі, якщо співпадають розмірності"
   ]
  },
  {
   "cell_type": "code",
   "execution_count": null,
   "metadata": {},
   "outputs": [],
   "source": [
    "arr_2d + np.array([1,1,1])"
   ]
  },
  {
   "cell_type": "markdown",
   "metadata": {},
   "source": [
    "Тривимірні масиви та їх індексація"
   ]
  },
  {
   "cell_type": "code",
   "execution_count": null,
   "metadata": {},
   "outputs": [],
   "source": [
    "arr_3d = np.array([[[0,0],  # 3 \"кадри\" розміром 2x2 пікселі\n",
    "                    [0,0]],\n",
    "                   [[1,1],\n",
    "                    [1,1]],\n",
    "                   [[2,2],\n",
    "                    [2,2]]])\n",
    "\n",
    "print(arr_3d.shape)\n",
    "arr_3d"
   ]
  },
  {
   "cell_type": "code",
   "execution_count": null,
   "metadata": {},
   "outputs": [],
   "source": [
    "arr_3d[0,0,0]"
   ]
  },
  {
   "cell_type": "code",
   "execution_count": null,
   "metadata": {},
   "outputs": [],
   "source": [
    "for frame in arr_3d:  # ітерація відбувається по першому виміру масиву\n",
    "    print(frame.shape)\n",
    "    print(frame)\n",
    "    print('---')"
   ]
  },
  {
   "cell_type": "markdown",
   "metadata": {},
   "source": [
    "# Зображення як масиви NumPy\n",
    "---"
   ]
  },
  {
   "cell_type": "markdown",
   "metadata": {},
   "source": [
    "### Зчитування та відображення зображень"
   ]
  },
  {
   "cell_type": "code",
   "execution_count": null,
   "metadata": {},
   "outputs": [],
   "source": [
    "# demo_image = skimage.data.human_mitosis()\n",
    "image = tiff.imread('demo_data/2D_grey_matter_neurofilaments.tif')\n",
    "print(image.dtype)\n",
    "print(image.shape)"
   ]
  },
  {
   "cell_type": "code",
   "execution_count": null,
   "metadata": {},
   "outputs": [],
   "source": [
    "plt.figure(figsize=(5,5))\n",
    "plt.imshow(image, cmap='Greys_r')"
   ]
  },
  {
   "cell_type": "code",
   "execution_count": null,
   "metadata": {},
   "outputs": [],
   "source": [
    "crop_image = image[1100:1500,350:750]\n",
    "print(crop_image.shape)\n",
    "\n",
    "plt.figure(figsize=(5,5))\n",
    "plt.imshow(crop_image, cmap='Greys_r')"
   ]
  },
  {
   "cell_type": "markdown",
   "metadata": {},
   "source": [
    "### Кольорові мапи"
   ]
  },
  {
   "cell_type": "code",
   "execution_count": null,
   "metadata": {},
   "outputs": [],
   "source": [
    "from matplotlib.colors import LinearSegmentedColormap\n",
    "\n",
    "def plot_linearmap(cdict):\n",
    "    ''' Функція для візуалізації кольорової мапи.\n",
    "    Не питайте, як це працює, це matplotlib-магія з глибин stack-overflow.\n",
    "    \n",
    "    '''\n",
    "    newcmp = LinearSegmentedColormap('testCmap', segmentdata=cdict, N=256)\n",
    "    rgba = newcmp(np.linspace(0, 1, 256))\n",
    "    fig, ax = plt.subplots(figsize=(4, 3), constrained_layout=True)\n",
    "    col = ['r', 'g', 'b']\n",
    "    for i in range(3):\n",
    "        ax.plot(np.arange(256)/256, rgba[:, i], color=col[i])\n",
    "    ax.set_xlabel('itensity')\n",
    "    ax.set_ylabel('RGB')\n",
    "    plt.show()"
   ]
  },
  {
   "cell_type": "markdown",
   "metadata": {},
   "source": [
    "Однокольорові мапи"
   ]
  },
  {
   "cell_type": "code",
   "execution_count": null,
   "metadata": {},
   "outputs": [],
   "source": [
    "# створення та відображення кольорової мапи\n",
    "dict_red = {'red':(\n",
    "            (0.0, 0.0, 0.0),\n",
    "            # (0.25, 0.1, 0.1),  # збільшення контрасту шляхом заниження яскравості пікселів низької інтенсивності\n",
    "            (1.0, 1.0, 1.0)),\n",
    "            'blue':(\n",
    "            (0.0, 0.0, 0.0),\n",
    "            (1.0, 0.0, 0.0)),\n",
    "            'green':(\n",
    "            (0.0, 0.0, 0.0),\n",
    "            (1.0, 0.0, 0.0))}\n",
    "cmap_red = LinearSegmentedColormap('Red_cmap', dict_red)\n",
    "\n",
    "plt.figure(figsize=(5,5))\n",
    "plt.imshow(crop_image, cmap=cmap_red)\n",
    "\n",
    "\n",
    "plot_linearmap(dict_red)"
   ]
  },
  {
   "cell_type": "markdown",
   "metadata": {},
   "source": [
    "Багатоколірні мапи"
   ]
  },
  {
   "cell_type": "code",
   "execution_count": null,
   "metadata": {},
   "outputs": [],
   "source": [
    "dict_blue_red = {'red':(\n",
    "                 (0.0, 0.0, 0.0),\n",
    "                 (0.6, 0.25, 0.25),\n",
    "                 (1.0, 1.0, 1.0)),\n",
    "                 'blue':(\n",
    "                 (0.0, 1.0, 1.0),\n",
    "                 (0.4, 0.25, 0.25),\n",
    "                 (1.0, 0.0, 0.0)),\n",
    "                 'green':(\n",
    "                 (0.0, 0.0, 0.0),\n",
    "                 (0.2, 0.0, 0.0),\n",
    "                 (0.5, 0.75, 0.75),\n",
    "                 (0.8, 0.0, 0.0),\n",
    "                 (1.0, 0.0, 0.0))}\n",
    "cmap_blue_red = LinearSegmentedColormap('BR_cmap', dict_blue_red)\n",
    "\n",
    "plt.figure(figsize=(5,5))\n",
    "plt.imshow(crop_image, cmap=cmap_blue_red)\n",
    "\n",
    "plot_linearmap(dict_blue_red)"
   ]
  },
  {
   "cell_type": "markdown",
   "metadata": {},
   "source": [
    "# Корекція фонової інтенсивності\n",
    "---"
   ]
  },
  {
   "cell_type": "markdown",
   "metadata": {},
   "source": [
    "### Гістограма зображення"
   ]
  },
  {
   "cell_type": "code",
   "execution_count": null,
   "metadata": {},
   "outputs": [],
   "source": [
    "print(crop_image.min())\n",
    "print(crop_image.max())\n",
    "\n",
    "plt.figure(figsize=(15,5))\n",
    "plt.hist(crop_image.ravel(), bins=256)\n",
    "plt.show()"
   ]
  },
  {
   "cell_type": "markdown",
   "metadata": {},
   "source": [
    "Візьмемо більш драматичний випадок для ілюстративності"
   ]
  },
  {
   "cell_type": "code",
   "execution_count": null,
   "metadata": {},
   "outputs": [],
   "source": [
    "bad_image = tiff.imread('demo_data/4D_live_HEK_spectral_time_series.tiff')[1,4]\n",
    "print(bad_image.shape)\n",
    "print(bad_image.dtype)\n",
    "print(bad_image.min())\n",
    "print(bad_image.max())\n",
    "\n",
    "plt.figure(figsize=(5,5))\n",
    "plt.imshow(bad_image, cmap='jet')"
   ]
  },
  {
   "cell_type": "code",
   "execution_count": null,
   "metadata": {},
   "outputs": [],
   "source": [
    "plt.figure(figsize=(15,5))\n",
    "plt.hist(bad_image.ravel(), bins=256)\n",
    "plt.show()"
   ]
  },
  {
   "cell_type": "code",
   "execution_count": null,
   "metadata": {},
   "outputs": [],
   "source": [
    "plt.figure(figsize=(15,5))\n",
    "plt.hist(bad_image.ravel(), bins=256)\n",
    "plt.yscale('log')\n",
    "plt.show()"
   ]
  },
  {
   "cell_type": "markdown",
   "metadata": {},
   "source": [
    "### Оцінка фонової інтенсивності за фрагментом зображення"
   ]
  },
  {
   "cell_type": "code",
   "execution_count": null,
   "metadata": {},
   "outputs": [],
   "source": [
    "roi_background_int = np.mean(bad_image[0:50, 270:], dtype=np.uint32)\n",
    "print(roi_background_int)\n",
    "\n",
    "import matplotlib.patches as patches\n",
    "crop_rect = patches.Rectangle((0, 270), 50, 50,\n",
    "                              linewidth=1.5, edgecolor='white', facecolor='none')\n",
    "\n",
    "fig, ax = plt.subplots(figsize=(5,5))\n",
    "ax.imshow(bad_image, cmap='jet')\n",
    "ax.add_patch(crop_rect)\n",
    "plt.show()"
   ]
  },
  {
   "cell_type": "code",
   "execution_count": null,
   "metadata": {},
   "outputs": [],
   "source": [
    "bad_image_corrected = bad_image - roi_background_int\n",
    "\n",
    "fig, (ax0, ax1) = plt.subplots(ncols=2, figsize=(10,5))\n",
    "\n",
    "ax0.hist(bad_image.ravel(), bins=256)\n",
    "# ax0.set_yscale('log')\n",
    "ax0.set_title('Raw')\n",
    "\n",
    "ax1.hist(bad_image_corrected.ravel(), bins=256)\n",
    "# ax1.set_yscale('log')\n",
    "ax1.set_title('Without background')\n",
    "\n",
    "plt.show()"
   ]
  },
  {
   "cell_type": "code",
   "execution_count": null,
   "metadata": {},
   "outputs": [],
   "source": [
    "plt.subplots(figsize=(5,5))\n",
    "plt.imshow(bad_image_corrected, cmap='jet')\n",
    "plt.show()"
   ]
  },
  {
   "cell_type": "code",
   "execution_count": null,
   "metadata": {},
   "outputs": [],
   "source": [
    "# у випадку використання цілих чисел відбувається переповнення\n",
    "a = np.uint16(150)\n",
    "b = np.uint16(160)\n",
    "c = a - b\n",
    "print(c)"
   ]
  },
  {
   "cell_type": "code",
   "execution_count": null,
   "metadata": {},
   "outputs": [],
   "source": [
    "# а використання чисел із плаваючою комою розмір зображення збільшиться вдвічі\n",
    "a = np.float32(150)\n",
    "b = np.uint16(160)\n",
    "c = a - b\n",
    "print(c)\n",
    "print(c.dtype)"
   ]
  },
  {
   "cell_type": "markdown",
   "metadata": {},
   "source": [
    "### Оцінка фонової інтенсивності за гістограмою"
   ]
  },
  {
   "cell_type": "code",
   "execution_count": null,
   "metadata": {},
   "outputs": [],
   "source": [
    "# перший перцентіль значень інтенсивності як оцінка фону\n",
    "perc_background_int = np.percentile(bad_image, 1)\n",
    "perc_background_int"
   ]
  },
  {
   "cell_type": "code",
   "execution_count": null,
   "metadata": {},
   "outputs": [],
   "source": [
    "# віднімання фону і перевірка на наявність від'ємних значень\n",
    "bad_image_pre_corrected = bad_image - perc_background_int\n",
    "bad_image_pre_corrected.min()"
   ]
  },
  {
   "cell_type": "code",
   "execution_count": null,
   "metadata": {},
   "outputs": [],
   "source": [
    "# корекція від'ємних значень\n",
    "bad_image_corrected = bad_image_pre_corrected.clip(min=0)\n",
    "bad_image_corrected.min()"
   ]
  },
  {
   "cell_type": "code",
   "execution_count": null,
   "metadata": {},
   "outputs": [],
   "source": [
    "# конвертація відкорегованого зображення\n",
    "print(f'Data type after correction: {bad_image_corrected.dtype}, image size {bad_image_corrected.nbytes/1000} kB')\n",
    "\n",
    "bad_image_preprocessed = bad_image_corrected.astype(np.uint16)\n",
    "\n",
    "print(f'Final data type: {bad_image_preprocessed.dtype}, image size {bad_image_preprocessed.nbytes/1000} kB')\n",
    "\n",
    "plt.subplots(figsize=(5,5))\n",
    "plt.imshow(bad_image_preprocessed, cmap='jet')\n",
    "plt.show()"
   ]
  },
  {
   "cell_type": "markdown",
   "metadata": {},
   "source": [
    "### Оформлення кроків корекції фонової інтенсивності у функції"
   ]
  },
  {
   "cell_type": "markdown",
   "metadata": {},
   "source": [
    "Оформлення всіх кроків корекції фонової інтенсивності у функцію"
   ]
  },
  {
   "cell_type": "code",
   "execution_count": null,
   "metadata": {},
   "outputs": [],
   "source": [
    "def background_correction(input_img:np.ndarray, background_percentile:float=1):\n",
    "    back_int = np.percentile(input_img, background_percentile)\n",
    "    corr_img = input_img - back_int\n",
    "    corr_img = corr_img.clip(min=0)\n",
    "    return corr_img.astype(input_img.dtype)"
   ]
  },
  {
   "cell_type": "markdown",
   "metadata": {},
   "source": [
    "Альтернативний варіант оформлення функції з використанням __list comprehension__ та __lambda-функції__"
   ]
  },
  {
   "cell_type": "code",
   "execution_count": null,
   "metadata": {},
   "outputs": [],
   "source": [
    "bc = lambda img, p=1.0:np.array(img - np.percentile(img, p)).clip(min=0).astype(dtype=img.dtype)"
   ]
  },
  {
   "cell_type": "markdown",
   "metadata": {},
   "source": [
    "### Збереження зображення після попередньої обробки"
   ]
  },
  {
   "cell_type": "code",
   "execution_count": null,
   "metadata": {},
   "outputs": [],
   "source": [
    "tiff.imwrite('data/preproc_img.tiff', bc(bad_image))"
   ]
  },
  {
   "cell_type": "markdown",
   "metadata": {},
   "source": [
    "<!-- # Завдання\n",
    "---\n",
    "\n",
    "- __Якщо не маєете власни даних:__ обрати демонстраційні дані для роботи і ознайомитись з їх описом та завданнями до них.\n",
    "- __Якщо маєте власні дані:__ сформулювати завдання до власних даних, які хотілось би отримати кількісні параметри із зображень і які кроки на шляху до цього Ви вбачаєте. \n",
    "- Стоворити робочий jupyther ноутбуку і завантажити обрані для роботи зображення.\n",
    "- _Опціонально:_ кропнути обрані зображення, щоб в подальшій роботі використовувати менші за розміром і максимально показові фрагменти.\n",
    "- _Опціонально:_ створити функцію, що проводила би корекцію фонової інтенсивності приймаючи на всіх початкове зображення і список із координат регіону, за середньою інтенсивністю якого відбувається оцінка фону (в форматі `[x_start, x_end, y_start, y_end]`). -->"
   ]
  },
  {
   "cell_type": "markdown",
   "metadata": {},
   "source": [
    "---\n",
    "\n",
    "# Завдання\n",
    "\n",
    "- __За відсутності власних зображень:__ обрати із демонстраційних зображення для подальшої роботи та ознайомитись із завданнями щодо його аналізу.\n",
    "- __За наявності власних зображень:__ сформувати перелік завдань щодо аналізу власних даних, спробувати сформулювати характеристики чи величини, що необхідно оцінити і які кроки передують отриманню значень цих характеристик/величин.\n",
    "- Провести попередню обробку обраних для подальшої роботи даних, за необхідності провести кроп зображення щоб лишити лише значущі регіони і провести корекцію фонової інтенсивності.\n",
    "- _Опціонально_ адапувати одну з наведених вище функції для корекції фонової інтенсивності для використання із 3D-зображеннями та часовими серіями зображень.\n",
    "- _Опіціонально_ створити функцію для корекції фонової інтенсивності, що приймала би на всіх початкове зображення та координати регіону, ща середньою інтенсивністю якого відбувається оцінка фонової інтенсивності (координати можна передавати функції у вигляді списку виду `[x_start, x_end, y_start, y_end]`)."
   ]
  }
 ],
 "metadata": {
  "kernelspec": {
   "display_name": "bioin-img",
   "language": "python",
   "name": "python3"
  },
  "language_info": {
   "codemirror_mode": {
    "name": "ipython",
    "version": 3
   },
   "file_extension": ".py",
   "mimetype": "text/x-python",
   "name": "python",
   "nbconvert_exporter": "python",
   "pygments_lexer": "ipython3",
   "version": "3.13.5"
  },
  "orig_nbformat": 4
 },
 "nbformat": 4,
 "nbformat_minor": 2
}
