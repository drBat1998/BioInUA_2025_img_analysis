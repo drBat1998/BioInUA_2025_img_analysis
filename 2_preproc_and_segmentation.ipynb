{
 "cells": [
  {
   "cell_type": "markdown",
   "metadata": {},
   "source": [
    "II. Попередня обробка зображень, детекція та сегментація об'єктів на зображеннях\n",
    "================================================================================\n",
    "\n",
    "_Image Analysis with Python and Napari, Bioinformatics for Ukraine course, 6-24 October 2025, Kyiv, Ukraine._\n",
    "\n",
    "_© Borys Olifirov, 2025_"
   ]
  },
  {
   "cell_type": "markdown",
   "metadata": {},
   "source": [
    "__План:__\n",
    "- Складніші способи оцінки фони (rolling ball)\n",
    "- Сегментація зображень, побудова масок із використанням алгоритма Отсу\n",
    "- Багаторівненва сегментація\n",
    "- Фільтрація зображень, фільтр Гауса та медіанний фільтр\n",
    "- Морфологічні операції із масками\n",
    "- Модулі python (`__init__.py`)"
   ]
  },
  {
   "cell_type": "markdown",
   "metadata": {},
   "source": [
    "---"
   ]
  },
  {
   "cell_type": "code",
   "execution_count": null,
   "metadata": {},
   "outputs": [],
   "source": [
    "import numpy as np\n",
    "import skimage  # scikit-image\n",
    "import scipy.ndimage as ndi\n",
    "import matplotlib.pyplot as plt"
   ]
  },
  {
   "cell_type": "markdown",
   "metadata": {},
   "source": [
    "# Попередня обробка зображень\n",
    "---"
   ]
  },
  {
   "cell_type": "code",
   "execution_count": null,
   "metadata": {},
   "outputs": [],
   "source": [
    "bad_image = skimage.io.imread('demo_data/4D_live_HEK_spectral_time_series.tiff')[1,4]  # завантаження зображень з використанням skimage\n",
    "print(bad_image.shape)\n",
    "print(bad_image.dtype)"
   ]
  },
  {
   "cell_type": "markdown",
   "metadata": {},
   "source": [
    "### Корекція фонової інтенсивності із використанням rolling-ball\n",
    "\n",
    "Для детального опису варто звернутись до [документації scikit-image](https://scikit-image.org/docs/0.25.x/auto_examples/segmentation/plot_rolling_ball.html)"
   ]
  },
  {
   "cell_type": "code",
   "execution_count": null,
   "metadata": {},
   "outputs": [],
   "source": [
    "background_image = skimage.restoration.rolling_ball(bad_image, radius=200)\n",
    "print(f'Background image data type: {background_image.dtype}')\n",
    "\n",
    "corrected_bad_image = bad_image - background_image\n",
    "print(f'Corrected image data type: {corrected_bad_image.dtype}')\n",
    "\n",
    "\n",
    "plt.figure(figsize=(12,6))\n",
    "\n",
    "ax0 = plt.subplot(121)\n",
    "ax0.imshow(bad_image)\n",
    "ax0.set_title('Raw image')\n",
    "\n",
    "ax1 = plt.subplot(122)\n",
    "ax1.imshow(background_image)\n",
    "ax1.set_title('Background')\n",
    "\n",
    "plt.show()"
   ]
  },
  {
   "cell_type": "markdown",
   "metadata": {},
   "source": [
    "Багатопанельні зображення з використанням matplotlib"
   ]
  },
  {
   "cell_type": "code",
   "execution_count": null,
   "metadata": {},
   "outputs": [],
   "source": [
    "plt.figure(figsize=(12,6))\n",
    "\n",
    "# зображення\n",
    "ax0 = plt.subplot(231)\n",
    "ax0.imshow(bad_image)\n",
    "ax0.set_title('Raw image')\n",
    "ax0.axis('off')\n",
    "\n",
    "ax1 = plt.subplot(232)\n",
    "ax1.imshow(background_image)\n",
    "ax1.set_title('Background')\n",
    "ax1.axis('off')\n",
    "\n",
    "ax2 = plt.subplot(233)\n",
    "ax2.imshow(corrected_bad_image)\n",
    "ax2.set_title('Corrected image')\n",
    "ax2.axis('off')\n",
    "\n",
    "# гістограми\n",
    "ax3 = plt.subplot(234)\n",
    "ax3.hist(bad_image.ravel(), bins=256)\n",
    "ax3.set_title('Raw image')\n",
    "\n",
    "ax4 = plt.subplot(235)\n",
    "ax4.hist(background_image.ravel(), bins=256)\n",
    "ax4.set_title('Background')\n",
    "\n",
    "ax5 = plt.subplot(236)\n",
    "ax5.hist(corrected_bad_image.ravel(), bins=256)\n",
    "ax5.set_title('Corrected image')\n",
    "\n",
    "plt.suptitle('Background estimation with rolling-ball')\n",
    "plt.tight_layout()\n",
    "plt.show()"
   ]
  },
  {
   "cell_type": "markdown",
   "metadata": {},
   "source": [
    "### Фільтрація зображень"
   ]
  },
  {
   "cell_type": "code",
   "execution_count": null,
   "metadata": {},
   "outputs": [],
   "source": [
    "crop_image = skimage.io.imread('demo_data/2D_grey_matter_neurofilaments.tif')[1100:1500,350:750]\n"
   ]
  },
  {
   "cell_type": "code",
   "execution_count": null,
   "metadata": {},
   "outputs": [],
   "source": [
    "line_num = 250\n",
    "image_line = crop_image[line_num,:]\n",
    "\n",
    "\n",
    "fig, (ax0, ax1) = plt.subplots(ncols=2, figsize=(15,7))\n",
    "\n",
    "ax0.imshow(crop_image, cmap='Greys_r')\n",
    "ax0.axhline(line_num, color='w', linestyle='--')  # додаємо обрану лінію зображення\n",
    "ax0.set_title('Image')\n",
    "\n",
    "ax1.plot(image_line)\n",
    "ax1.set_title('Intensity along line')\n",
    "plt.show()"
   ]
  },
  {
   "cell_type": "markdown",
   "metadata": {},
   "source": [
    "##### Медіанний фільтр"
   ]
  },
  {
   "cell_type": "code",
   "execution_count": null,
   "metadata": {},
   "outputs": [],
   "source": [
    "disk_fooprint = skimage.morphology.disk(3)  # структурний елемент для фільтрації\n",
    "plt.imshow(disk_fooprint)"
   ]
  },
  {
   "cell_type": "code",
   "execution_count": null,
   "metadata": {},
   "outputs": [],
   "source": [
    "filtered_image_med = skimage.filters.median(crop_image, footprint=skimage.morphology.disk(3))\n",
    "\n",
    "\n",
    "line_med = filtered_image_med[line_num,:]\n",
    "\n",
    "fig, (ax0, ax1) = plt.subplots(ncols=2, figsize=(15,7))\n",
    "ax0.imshow(filtered_image_med, cmap='Greys_r')\n",
    "ax0.axhline(line_num, color='w', linestyle='--')\n",
    "ax0.set_title('Filtered image')\n",
    "ax1.plot(line_med)\n",
    "ax1.set_title('Intensity along line')\n",
    "plt.show()"
   ]
  },
  {
   "cell_type": "markdown",
   "metadata": {},
   "source": [
    "##### Фільтр Гауса\n",
    "\n",
    "![GAUSSIAN](pic/gaussian.png)"
   ]
  },
  {
   "cell_type": "code",
   "execution_count": null,
   "metadata": {},
   "outputs": [],
   "source": [
    "def generate_gaussian_kernel(kernel_size, sigma):\n",
    "    \"\"\"\n",
    "    Генерація 2D Гаусівського ядра.\n",
    "\n",
    "    Args:\n",
    "        kernel_size (int): Розмір квадратного ядра (наприклад, 3 для ядра 3x3), непарне число.\n",
    "        sigma (float): Стандартне відхилення функції Гаусса.\n",
    "\n",
    "    Returns:\n",
    "        numpy.ndarray: 2D ядро.\n",
    "    \"\"\"\n",
    "    if kernel_size % 2 == 0:\n",
    "        raise ValueError(\"Kernel size must be an odd number.\")\n",
    "\n",
    "    # створення 1D масиву координат, відцентрованого відносно нуля\n",
    "    ax = np.linspace(-(kernel_size - 1) / 2., (kernel_size - 1) / 2., kernel_size)\n",
    "\n",
    "    # створення 2D сітки координат\n",
    "    xx, yy = np.meshgrid(ax, ax)  \n",
    "\n",
    "    # обчислення значень функції Гаусса\n",
    "    kernel = np.exp(-0.5 * (np.square(xx) + np.square(yy)) / np.square(sigma))\n",
    "\n",
    "    # нормалізація значень в діапазоні [0, 1]\n",
    "    return kernel / np.sum(kernel)\n",
    "\n",
    "kernel_size = 5  \n",
    "sigma = 1.0\n",
    "gaussian_kernel = generate_gaussian_kernel(kernel_size, sigma)\n",
    "\n",
    "plt.imshow(gaussian_kernel, cmap='jet')"
   ]
  },
  {
   "cell_type": "code",
   "execution_count": null,
   "metadata": {},
   "outputs": [],
   "source": [
    "filtered_image_gaus = skimage.filters.gaussian(crop_image, sigma=1)\n",
    "\n",
    "\n",
    "line_gaus = filtered_image_gaus[line_num,:]\n",
    "\n",
    "fig, (ax0, ax1) = plt.subplots(ncols=2, figsize=(15,7))\n",
    "ax0.imshow(filtered_image_gaus, cmap='Greys_r')\n",
    "ax0.axhline(line_num, color='w', linestyle='--')\n",
    "ax0.set_title('Filtered image')\n",
    "ax1.plot(line_gaus)\n",
    "ax1.set_title('Intensity along line')\n",
    "plt.show()"
   ]
  },
  {
   "cell_type": "markdown",
   "metadata": {},
   "source": [
    "##### Фільтрацію можна узагальнити до згортки (convolution)\n",
    "\n",
    "Операція згортки (convolution) з певним ядром може слугувати не лише для згладжування зображень, але й для інших операцій, наприклад виявлення країв (edge detection, Sobel operator)."
   ]
  },
  {
   "cell_type": "code",
   "execution_count": null,
   "metadata": {},
   "outputs": [],
   "source": [
    "sobel_h = np.array([[-1, 0, 1],  # ядро Собеля для виявлення горизонтальних контурів\n",
    "                    [-2, 0, 2],\n",
    "                    [-1, 0, 1]])\n",
    "\n",
    "sobel_v = np.array([[1, 2, 1],   # ядро Собеля для виявлення вертикальних контурів\n",
    "                    [0, 0, 0],\n",
    "                    [-1, -2, -1]])\n",
    "\n",
    "fig, (ax0, ax1) = plt.subplots(ncols=2, figsize=(15,7))\n",
    "ax0.imshow(sobel_h, cmap='jet')\n",
    "ax1.imshow(sobel_v, cmap='jet')\n",
    "plt.show()"
   ]
  },
  {
   "cell_type": "code",
   "execution_count": null,
   "metadata": {},
   "outputs": [],
   "source": [
    "smooth_bad_image = skimage.filters.gaussian(bad_image, sigma=3)\n",
    "\n",
    "plt.imshow(smooth_bad_image, cmap='jet')"
   ]
  },
  {
   "cell_type": "code",
   "execution_count": null,
   "metadata": {},
   "outputs": [],
   "source": [
    "edges_h = ndi.convolve(smooth_bad_image, sobel_h)  # детекція горизонтальних контурів\n",
    "\n",
    "plt.imshow(edges_h, cmap='jet')  # відображаються вертикальні бо matplotlib використовує (y,x) координати"
   ]
  },
  {
   "cell_type": "code",
   "execution_count": null,
   "metadata": {},
   "outputs": [],
   "source": [
    "edges_v = ndi.convolve(smooth_bad_image, sobel_v)  # детекція вертикальних контурів\n",
    "\n",
    "plt.imshow(edges_v, cmap='jet')"
   ]
  },
  {
   "cell_type": "markdown",
   "metadata": {},
   "source": [
    "Для обєднання двох градієнтів (по вертикалі та горизонталі) використовується піднесення до квадрату та корінь квадратний, щоб визначити повний градієнт."
   ]
  },
  {
   "cell_type": "code",
   "execution_count": null,
   "metadata": {},
   "outputs": [],
   "source": [
    "# об'єднання градієнтів по вертикалі та горизонталі, отримання повного зображення контурів\n",
    "edges = np.sqrt(edges_h**2 + edges_v**2)\n",
    "\n",
    "plt.imshow(edges, cmap='jet')"
   ]
  },
  {
   "cell_type": "markdown",
   "metadata": {},
   "source": [
    "# Проста сегментація зображень\n",
    "---"
   ]
  },
  {
   "cell_type": "markdown",
   "metadata": {},
   "source": [
    "### Бінарні маски"
   ]
  },
  {
   "cell_type": "code",
   "execution_count": null,
   "metadata": {},
   "outputs": [],
   "source": [
    "print(crop_image.min())\n",
    "print(crop_image.max())\n",
    "\n",
    "plt.figure(figsize=(15,5))\n",
    "plt.hist(crop_image.ravel(), bins=256)\n",
    "plt.show()"
   ]
  },
  {
   "cell_type": "code",
   "execution_count": null,
   "metadata": {},
   "outputs": [],
   "source": [
    "simple_mask = crop_image > 700\n",
    "\n",
    "print(crop_image.shape)\n",
    "print(simple_mask.shape)\n",
    "\n",
    "plt.imshow(simple_mask)"
   ]
  },
  {
   "cell_type": "markdown",
   "metadata": {},
   "source": [
    "### Сегментація зображення з використання методу Отсу"
   ]
  },
  {
   "cell_type": "code",
   "execution_count": null,
   "metadata": {},
   "outputs": [],
   "source": [
    "th_otsu = skimage.filters.threshold_otsu(crop_image)\n",
    "print(th_otsu)\n",
    "\n",
    "plt.figure(figsize=(15,5))\n",
    "plt.hist(crop_image.ravel(), bins=256)\n",
    "plt.axvline(x=th_otsu, linestyle='--', color='k')\n",
    "plt.show()"
   ]
  },
  {
   "cell_type": "code",
   "execution_count": null,
   "metadata": {},
   "outputs": [],
   "source": [
    "otsu_mask = crop_image > th_otsu\n",
    "\n",
    "fig, (ax0, ax1) = plt.subplots(ncols=2, figsize=(15,7))\n",
    "ax0.imshow(simple_mask)\n",
    "ax0.set_title('Simple mask')\n",
    "ax1.imshow(otsu_mask)\n",
    "ax1.set_title('Otsu mask')\n",
    "plt.show()"
   ]
  },
  {
   "cell_type": "markdown",
   "metadata": {},
   "source": [
    "Про інші методи простої сегментації можна прочитати у [документації scikit-image](https://scikit-image.org/docs/0.25.x/auto_examples/segmentation/plot_thresholding.html)."
   ]
  },
  {
   "cell_type": "markdown",
   "metadata": {},
   "source": [
    "### Сегментація зображення з використання методу мульти Отсу"
   ]
  },
  {
   "cell_type": "code",
   "execution_count": null,
   "metadata": {},
   "outputs": [],
   "source": [
    "multi_otsu_th = skimage.filters.threshold_multiotsu(crop_image, classes=3)\n",
    "print(multi_otsu_th)\n",
    "\n",
    "plt.figure(figsize=(15,5))\n",
    "plt.hist(crop_image.ravel(), bins=256)\n",
    "plt.axvline(x=multi_otsu_th[0], linestyle='--', color='k')\n",
    "plt.axvline(x=multi_otsu_th[-1], linestyle='--', color='k')\n",
    "plt.show()"
   ]
  },
  {
   "cell_type": "code",
   "execution_count": null,
   "metadata": {},
   "outputs": [],
   "source": [
    "multiotsu_mask = np.digitize(crop_image, bins=multi_otsu_th)  # створення маски на основі порогів\n",
    "\n",
    "fig, (ax0, ax1) = plt.subplots(ncols=2, figsize=(15,7))\n",
    "ax0.imshow(crop_image, cmap='Greys_r')\n",
    "ax0.set_title('Image')\n",
    "ax1.imshow(multiotsu_mask, cmap='seismic')\n",
    "ax1.set_title('Multi-Otsu mask')\n",
    "plt.show()"
   ]
  },
  {
   "cell_type": "markdown",
   "metadata": {},
   "source": [
    "### Попередня обробка та фільтрація дозволяє покращити якість сегментації"
   ]
  },
  {
   "cell_type": "code",
   "execution_count": null,
   "metadata": {},
   "outputs": [],
   "source": [
    "# функція для корекції фону з попередньої зустрічі\n",
    "def background_correction(input_img:np.ndarray, background_percentile:float=1):\n",
    "    back_int = np.percentile(input_img, background_percentile)\n",
    "    corr_img = input_img - back_int\n",
    "    corr_img = corr_img.clip(min=0)\n",
    "    return corr_img.astype(input_img.dtype)"
   ]
  },
  {
   "cell_type": "code",
   "execution_count": null,
   "metadata": {},
   "outputs": [],
   "source": [
    "corrected_image = background_correction(crop_image, background_percentile=1)\n",
    "preprocessed_image = skimage.filters.gaussian(crop_image, sigma=1)"
   ]
  },
  {
   "cell_type": "code",
   "execution_count": null,
   "metadata": {},
   "outputs": [],
   "source": [
    "fin_otsu_mask = preprocessed_image > skimage.filters.threshold_otsu(preprocessed_image)\n",
    "\n",
    "fin_multi_otsu_th = skimage.filters.threshold_multiotsu(preprocessed_image, classes=3)\n",
    "fin_multiotsu_mask = np.digitize(preprocessed_image, bins=fin_multi_otsu_th)\n",
    "\n",
    "\n",
    "fig, ax = plt.subplots(ncols=2, nrows=2, figsize=(10,10))  # альтернативний спосіб створення сітки зображень\n",
    "ax[0,0].imshow(otsu_mask, cmap='seismic')\n",
    "ax[0,0].set_title('Otsu mask')\n",
    "ax[0,1].imshow(fin_otsu_mask, cmap='seismic')\n",
    "ax[0,1].set_title('Otsu mask, preprocessed data')\n",
    "ax[1,0].imshow(multiotsu_mask, cmap='seismic')\n",
    "ax[1,0].set_title('Multi-Otsu mask')\n",
    "ax[1,1].imshow(fin_multiotsu_mask, cmap='seismic')\n",
    "ax[1,1].set_title('Multi-Otsu mask, preprocessed data')\n",
    "plt.show()"
   ]
  },
  {
   "cell_type": "markdown",
   "metadata": {},
   "source": [
    "# Морфологічні операції із зображеннями\n",
    "---"
   ]
  },
  {
   "cell_type": "code",
   "execution_count": null,
   "metadata": {},
   "outputs": [],
   "source": [
    "mask_fragment = fin_otsu_mask[100:200,:100]\n",
    "print(mask_fragment.shape)\n",
    "\n",
    "plt.imshow(mask_fragment)"
   ]
  },
  {
   "cell_type": "markdown",
   "metadata": {},
   "source": [
    "### Базові морфологічні операції"
   ]
  },
  {
   "cell_type": "code",
   "execution_count": null,
   "metadata": {},
   "outputs": [],
   "source": [
    "dilated_mask = skimage.morphology.dilation(mask_fragment, footprint=skimage.morphology.disk(8))\n",
    "eroded_mask = skimage.morphology.erosion(mask_fragment, footprint=skimage.morphology.disk(8))\n",
    "\n",
    "fig, ax = plt.subplots(ncols=3, figsize=(18,18))\n",
    "ax[0].imshow(mask_fragment)\n",
    "ax[0].set_title('Raw mask')\n",
    "ax[1].imshow(dilated_mask)\n",
    "ax[1].set_title('Dilated mask')\n",
    "ax[2].imshow(eroded_mask)\n",
    "ax[2].set_title('Eroded mask')\n",
    "plt.show()"
   ]
  },
  {
   "cell_type": "markdown",
   "metadata": {},
   "source": [
    "### Послідовні морфологічні операції"
   ]
  },
  {
   "cell_type": "code",
   "execution_count": null,
   "metadata": {},
   "outputs": [],
   "source": [
    "# відкриття є послідовністю ерозії та диляції\n",
    "opened_mask = skimage.morphology.opening(mask_fragment, footprint=skimage.morphology.disk(5))\n",
    "\n",
    "# закриття є послідовністю диляції та ерозії\n",
    "closed_mask = skimage.morphology.closing(mask_fragment, footprint=skimage.morphology.disk(5))\n",
    "\n",
    "\n",
    "fig, ax = plt.subplots(ncols=3, figsize=(18,18))\n",
    "ax[0].imshow(mask_fragment)\n",
    "ax[0].set_title('Raw mask')\n",
    "ax[1].imshow(opened_mask)\n",
    "ax[1].set_title('Opened mask')\n",
    "ax[2].imshow(closed_mask)\n",
    "ax[2].set_title('Closed mask')\n",
    "plt.show()"
   ]
  },
  {
   "cell_type": "markdown",
   "metadata": {},
   "source": [
    "### Процессинг бінарної маски з використанням морфологічних операцій"
   ]
  },
  {
   "cell_type": "code",
   "execution_count": null,
   "metadata": {},
   "outputs": [],
   "source": [
    "# закриттям маски позбавляємось дрібних прогалин\n",
    "pre_filtered_mask = skimage.morphology.closing(fin_otsu_mask, footprint=skimage.morphology.disk(3))\n",
    "\n",
    "# відкриттям маски видаляємо дрібні артефакти поза клітиною\n",
    "filtered_mask = skimage.morphology.opening(pre_filtered_mask, footprint=skimage.morphology.disk(7))\n",
    "\n",
    "\n",
    "fig, ax = plt.subplots(ncols=2, nrows=2, figsize=(15,15))\n",
    "ax[0,0].imshow(otsu_mask)\n",
    "ax[0,0].set_title('Otsu mask')\n",
    "ax[0,1].imshow(fin_otsu_mask)\n",
    "ax[0,1].set_title('Otsu mask, preprocessed data')\n",
    "ax[1,0].imshow(pre_filtered_mask)\n",
    "ax[1,0].set_title('Pre-fin mask after closing')\n",
    "ax[1,1].imshow(filtered_mask)\n",
    "ax[1,1].set_title('Filtered mask after opening')\n",
    "plt.show()"
   ]
  },
  {
   "cell_type": "markdown",
   "metadata": {},
   "source": [
    "<!-- # Завдання\n",
    "---\n",
    "\n",
    "Документація щодо [модулів pythob](https://docs.python.org/3/tutorial/modules.html).\n",
    "\n",
    "\n",
    "\n",
    "Напишіть функцію що приймала б на вхід 2D-зображення і повертала подвійну картинку де ліворуч відображалось би вхідне зображення, а праворуч фінальна маска отримана за методом Отсу.\n",
    "\n",
    "Можете створити для зображеня власну просту кольорову мапу (червону, синю, зелену), або можете ознаймотись із доступними в [matplotlib](https://matplotlib.org/stable/users/explain/colors/colormaps.html).\n",
    "\n",
    "Також можете спробувати побудувати маску для 3D time series/z-stack, по одному з кадрів чи користуючись усередненим зображенням що можна отримати за допомогою функції `np.mean()` ([документація функції](https://numpy.org/doc/stable/reference/generated/numpy.mean.html)).  -->"
   ]
  },
  {
   "cell_type": "markdown",
   "metadata": {},
   "source": [
    "# Модулі python\n",
    "---\n",
    "\n",
    "Задля організації коду у більш складні структури використовуються модулі python. Модулі дозволяють розділяти код на логічні частини, що полегшує його читання та повторне використання.\n",
    "\n",
    "Модуль - це файл з розширенням `.py`, що містить визначення функцій, класів та змінних. Модулі можна імпортувати в інші скрипти або інтерактивні середовища, такі як Jupyter Notebook."
   ]
  },
  {
   "cell_type": "code",
   "execution_count": null,
   "metadata": {},
   "outputs": [],
   "source": [
    "# імпорт модуля з директорії templates\n",
    "import templates.module_template as tm"
   ]
  },
  {
   "cell_type": "code",
   "execution_count": null,
   "metadata": {},
   "outputs": [],
   "source": [
    "help(tm)  # виклик довідки по модулю"
   ]
  },
  {
   "cell_type": "code",
   "execution_count": null,
   "metadata": {},
   "outputs": [],
   "source": [
    "tm.a_and_b(5, 10)  # виклик функції з модуля"
   ]
  },
  {
   "cell_type": "markdown",
   "metadata": {},
   "source": [
    "Щоб імпортувати модуль з іншої директорії, потрібно переконатися, що ця директорія містить файл `__init__.py`, який позначає її як місце зберігання модулів (пакет) python.\n",
    "\n",
    "В нашому прикладі модуль розташований у `templates/module_template.py`, і містить файл `__init__.py`.\n",
    "\n",
    "Коли будете створювати власний модуль в папці `data` - не забудьте додати порожній файл `__init__.py`."
   ]
  },
  {
   "cell_type": "markdown",
   "metadata": {},
   "source": [
    "# Завдання\n",
    "---\n",
    "\n",
    "- Створіть функцію, що примала б на вхід 2D-зображення та налаштування для фільтра (медіанний чи Гауса) і повертала зображення після фільтрації.\n",
    "- Адаптуйте функцію для роботи з 3D time series/z-stack, щоб фільтрація застосовувалась до кожного кадру окремо.\n",
    "- Створіть функцію, що приймала б на вхід 2D-зображення та параметри для обраного методу морфологічної фільтрації і б повертала відфільтровану маску Отсу.\n",
    "- Офоміть ці функції та функції із попередньої зустрічі у вигляді модуля python, що зберігатиметься у папці `data`."
   ]
  }
 ],
 "metadata": {
  "kernelspec": {
   "display_name": "bioin-img",
   "language": "python",
   "name": "python3"
  },
  "language_info": {
   "codemirror_mode": {
    "name": "ipython",
    "version": 3
   },
   "file_extension": ".py",
   "mimetype": "text/x-python",
   "name": "python",
   "nbconvert_exporter": "python",
   "pygments_lexer": "ipython3",
   "version": "3.13.5"
  },
  "orig_nbformat": 4
 },
 "nbformat": 4,
 "nbformat_minor": 2
}
