{
 "cells": [
  {
   "cell_type": "markdown",
   "metadata": {},
   "source": [
    "IV. napari\n",
    "==========\n",
    "\n",
    "_Image Analysis with Python and Napari, Bioinformatics for Ukraine course, 6-24 October 2025, Kyiv, Ukraine._\n",
    "\n",
    "_© Borys Olifirov, 2025_"
   ]
  },
  {
   "cell_type": "markdown",
   "metadata": {},
   "source": [
    "__План:__\n",
    "- Огліяд napari\n",
    "- Розширення функціоналу napari за допомогою віджетів\n",
    "- Оформлення набору функцій як плгіну napari"
   ]
  },
  {
   "cell_type": "markdown",
   "metadata": {},
   "source": [
    "---"
   ]
  },
  {
   "cell_type": "code",
   "execution_count": null,
   "metadata": {},
   "outputs": [],
   "source": [
    "import os\n",
    "import pathlib\n",
    "import datetime\n",
    "\n",
    "import numpy as np\n",
    "import skimage  # scikit-image\n",
    "import matplotlib.pyplot as plt\n",
    "\n",
    "from napari import Viewer                # головний клас переглядача napari\n",
    "from napari.layers import Image, Labels  # різні типи шарів napari\n",
    "from napari.utils.notifications import show_info  # для виведення повідомлень у napari\n",
    "from magicgui import magic_factory       # для створення віджетів napari"
   ]
  },
  {
   "cell_type": "markdown",
   "metadata": {},
   "source": [
    "# napari viewer та різні типи шарів\n",
    "---"
   ]
  },
  {
   "cell_type": "markdown",
   "metadata": {},
   "source": [
    "### Завантаження зображень як шару Image"
   ]
  },
  {
   "cell_type": "markdown",
   "metadata": {},
   "source": [
    "##### Демонстраційне 2D-зображення"
   ]
  },
  {
   "cell_type": "code",
   "execution_count": null,
   "metadata": {},
   "outputs": [],
   "source": [
    "neuron_img_2D = skimage.io.imread('demo_data/2D_grey_matter_neurofilaments.tif')\n",
    "print(neuron_img_2D.shape)\n",
    "\n",
    "plt.imshow(neuron_img_2D, cmap='gray')"
   ]
  },
  {
   "cell_type": "markdown",
   "metadata": {},
   "source": [
    "Передамо зображення як шар Image до переглядача napari та запустимо переглядач"
   ]
  },
  {
   "cell_type": "code",
   "execution_count": null,
   "metadata": {},
   "outputs": [],
   "source": [
    "# створюємо об'єкт переглядача napari\n",
    "viewer = Viewer()\n",
    "\n",
    "# додаємо шар Image з нашим зображенням, вказуємо ім'я шару та кольорову мапу\n",
    "viewer.add_image(neuron_img_2D, name='neuron_img_2D', colormap='gray')\n",
    "viewer.show()"
   ]
  },
  {
   "cell_type": "markdown",
   "metadata": {},
   "source": [
    "##### Демонстраційне 4D-зображення"
   ]
  },
  {
   "cell_type": "code",
   "execution_count": null,
   "metadata": {},
   "outputs": [],
   "source": [
    "nerve_img_4D = skimage.io.imread('demo_data/4D_nerve_spectral_z-stack.tif')\n",
    "print(nerve_img_4D.shape)\n"
   ]
  },
  {
   "cell_type": "code",
   "execution_count": null,
   "metadata": {},
   "outputs": [],
   "source": [
    "viewer = Viewer()\n",
    "viewer.add_image(nerve_img_4D, name='nerve_img_4D', colormap='gray')\n",
    "viewer.show()"
   ]
  },
  {
   "cell_type": "markdown",
   "metadata": {},
   "source": [
    "Розділемо спектральні канали та відобразимо їх як окремі шари Image"
   ]
  },
  {
   "cell_type": "code",
   "execution_count": null,
   "metadata": {},
   "outputs": [],
   "source": [
    "nerve_img_ch0 = nerve_img_4D[:,0]\n",
    "nerve_img_ch1 = nerve_img_4D[:,1]\n",
    "\n",
    "print(nerve_img_ch0.shape, nerve_img_ch1.shape)"
   ]
  },
  {
   "cell_type": "code",
   "execution_count": null,
   "metadata": {},
   "outputs": [],
   "source": [
    "viewer = Viewer()\n",
    "viewer.add_image(nerve_img_ch0, name='nerve_img_ch0', colormap='gray')\n",
    "viewer.add_image(nerve_img_ch1, name='nerve_img_ch1', colormap='gray')\n",
    "viewer.show()"
   ]
  },
  {
   "cell_type": "markdown",
   "metadata": {},
   "source": [
    "### Завантаження маски чи ярликів як шару Labels"
   ]
  },
  {
   "cell_type": "markdown",
   "metadata": {},
   "source": [
    "##### Демонстраційна 2D-маска"
   ]
  },
  {
   "cell_type": "code",
   "execution_count": null,
   "metadata": {},
   "outputs": [],
   "source": [
    "neuron_mask_2D = skimage.io.imread('course_data/neuron_mask.tif')\n",
    "print(neuron_mask_2D.shape)\n",
    "\n",
    "plt.imshow(neuron_mask_2D, cmap='gray')"
   ]
  },
  {
   "cell_type": "code",
   "execution_count": null,
   "metadata": {},
   "outputs": [],
   "source": [
    "viewer = Viewer()\n",
    "viewer.add_labels(neuron_mask_2D, name='neuron_mask_2D', opacity=0.75)\n",
    "viewer.show()"
   ]
  },
  {
   "cell_type": "markdown",
   "metadata": {},
   "source": [
    "##### Демонстраційна 3D-маска"
   ]
  },
  {
   "cell_type": "markdown",
   "metadata": {},
   "source": [
    "Завантажимо z-стек клітини HEK 293"
   ]
  },
  {
   "cell_type": "code",
   "execution_count": null,
   "metadata": {},
   "outputs": [],
   "source": [
    "hek_img_3d = skimage.io.imread('demo_data/3D_HEK_z-stack.tif')\n",
    "print(hek_img_3d.shape)\n",
    "\n",
    "plt.imshow(hek_img_3d[5], cmap='magma')"
   ]
  },
  {
   "cell_type": "markdown",
   "metadata": {},
   "source": [
    "Завантажимо 3D-маску клітини HEK 293"
   ]
  },
  {
   "cell_type": "code",
   "execution_count": null,
   "metadata": {},
   "outputs": [],
   "source": [
    "hek_mask_3d = skimage.io.imread('course_data/3D_hek_mask.tif')\n",
    "print(hek_mask_3d.shape)\n",
    "\n",
    "plt.imshow(hek_mask_3d[5], cmap='grey')"
   ]
  },
  {
   "cell_type": "markdown",
   "metadata": {},
   "source": [
    "Додамо шар Image та шар Labels до переглядача napari"
   ]
  },
  {
   "cell_type": "code",
   "execution_count": null,
   "metadata": {},
   "outputs": [],
   "source": [
    "viewer = Viewer()\n",
    "viewer.add_image(hek_img_3d, name='HEK 293', colormap='grey')\n",
    "viewer.add_labels(hek_mask_3d, name='HEK 293 Mask', opacity=0.5)\n",
    "viewer.show()"
   ]
  },
  {
   "cell_type": "markdown",
   "metadata": {},
   "source": [
    "### Інші типи шарів napari\n",
    "Ці типи шарів можуть бути створені вручну і використані для розмітки даних:\n",
    "- __Points__ - для відображення набору точкових координат, задається набором координат.\n",
    "- __Shapes__ - для відображення фігур (ліній, прямокутників, еліпсів, багатокутників).\n",
    "\n",
    "Ці типи шарів можуть бути створені виключно програмно:\n",
    "- __Surface__ - для відображення 3D поверхонь, задається набором координат вершин та граней.\n",
    "- __Traces__ - для відображення змін координат у часі, задається набором координат і часових точок.\n",
    "- __Vectors__ - для відображення напрямків, задається набором координат початків та напрямків.\n",
    "\n",
    "Детальний опис можна знайти у [документації napari](https://napari.org/stable/howtos/layers/index.html)"
   ]
  },
  {
   "cell_type": "markdown",
   "metadata": {},
   "source": [
    "# Віджети napari\n",
    "---"
   ]
  },
  {
   "cell_type": "markdown",
   "metadata": {},
   "source": [
    "### Пригадаємо функцію для побудови простої маски"
   ]
  },
  {
   "cell_type": "code",
   "execution_count": null,
   "metadata": {},
   "outputs": [],
   "source": [
    "# Можете позичити цю функцію для власного модуля\n",
    "def simple_masking(image: np.ndarray, median_filter:int=0,\n",
    "                   closing:int=3, opening:int=3):\n",
    "    # попередня обробка зображення медіанним фільтром\n",
    "    preprocessed_image = skimage.filters.median(image,\n",
    "                                                footprint=skimage.morphology.disk(median_filter))\n",
    "    \n",
    "    # побудова маски за допомогою порогу Отсу\n",
    "    otsu_mask = preprocessed_image > skimage.filters.threshold_otsu(preprocessed_image)\n",
    "    \n",
    "    # закриттям маски позбавляємось дрібних прогалин\n",
    "    pre_filtered_mask = skimage.morphology.closing(otsu_mask,\n",
    "                                                   footprint=skimage.morphology.disk(closing))\n",
    "\n",
    "    # відкриттям маски видаляємо дрібні артефакти поза клітиною\n",
    "    filtered_mask = skimage.morphology.opening(pre_filtered_mask,\n",
    "                                               footprint=skimage.morphology.disk(opening))\n",
    "    \n",
    "    return filtered_mask"
   ]
  },
  {
   "cell_type": "code",
   "execution_count": null,
   "metadata": {},
   "outputs": [],
   "source": [
    "neuron_mask = simple_masking(neuron_img_2D, median_filter=3, closing=5, opening=5)\n",
    "\n",
    "plt.imshow(neuron_mask, cmap='gray')"
   ]
  },
  {
   "cell_type": "markdown",
   "metadata": {},
   "source": [
    "### Перетворимо функцію на віджет napari"
   ]
  },
  {
   "cell_type": "markdown",
   "metadata": {},
   "source": [
    "Модифікована функція з використанням декоратора `@magic_factory` для створення віджету"
   ]
  },
  {
   "cell_type": "code",
   "execution_count": null,
   "metadata": {},
   "outputs": [],
   "source": [
    "@magic_factory(call_button='Create Mask')\n",
    "def simple_masking_widget(viewer: Viewer, image: Image,\n",
    "                          median_filter:int=0, closing:int=3, opening:int=3):\n",
    "    image_data = image.data  # збережемо дані в тимчасову змінну\n",
    "\n",
    "    # виведемо ім'я шару та розмірність зображення\n",
    "    show_info(f'Image name: {image.name}')\n",
    "    show_info(f'Image shape: {image_data.shape}, dtype: {image_data.dtype}')\n",
    "\n",
    "    # попередня обробка зображення медіанним фільтром\n",
    "    preprocessed_image = skimage.filters.median(image_data,\n",
    "                                                footprint=skimage.morphology.disk(median_filter))\n",
    "    # побудова маски за допомогою порогу Отсу\n",
    "    otsu_mask = preprocessed_image > skimage.filters.threshold_otsu(preprocessed_image)\n",
    "    # закриттям маски позбавляємось дрібних прогалин\n",
    "    pre_filtered_mask = skimage.morphology.closing(otsu_mask,\n",
    "                                                   footprint=skimage.morphology.disk(closing))\n",
    "    # відкриттям маски видаляємо дрібні артефакти поза клітиною\n",
    "    filtered_mask = skimage.morphology.opening(pre_filtered_mask,\n",
    "                                               footprint=skimage.morphology.disk(opening))\n",
    "\n",
    "    # додаємо шар Labels з отриманою маскою    \n",
    "    viewer.add_labels(filtered_mask, name=f'{image.name}_simple_mask', opacity=0.5)"
   ]
  },
  {
   "cell_type": "markdown",
   "metadata": {},
   "source": [
    "Створимо екземпляр віджету та додамо його до переглядача napari"
   ]
  },
  {
   "cell_type": "code",
   "execution_count": null,
   "metadata": {},
   "outputs": [],
   "source": [
    "smw = simple_masking_widget()\n",
    "\n",
    "viewer = Viewer()\n",
    "viewer.add_image(neuron_img_2D, name='neuron_img_2D', colormap='gray')\n",
    "viewer.window.add_dock_widget(smw,\n",
    "                              name = 'Simple Masking',\n",
    "                              area='right')\n",
    "viewer.show()"
   ]
  },
  {
   "cell_type": "markdown",
   "metadata": {},
   "source": [
    "### Додамо інтерактивні елементи налаштувань"
   ]
  },
  {
   "cell_type": "markdown",
   "metadata": {},
   "source": [
    "Приклад інтерактивних елементів для різних типів параметрів"
   ]
  },
  {
   "cell_type": "code",
   "execution_count": null,
   "metadata": {},
   "outputs": [],
   "source": [
    "@magic_factory(call_button=\"Press me\",\n",
    "               slider_float={\"widget_type\": \"FloatSlider\", 'min': -5, 'max': 5},\n",
    "               slider_int={\"widget_type\": \"IntSlider\", 'min': -5, 'max': 5},\n",
    "               dropdown={\"choices\": ['first', 'second', 'third']},)\n",
    "def widget_demo(viewer: Viewer,\n",
    "                maybe: bool,\n",
    "                some_int: int,\n",
    "                spin_float:float=3.14159,\n",
    "                slider_float:float=2.71828,\n",
    "                slider_int:int=3,\n",
    "                string:str=\"Text goes here\",\n",
    "                dropdown:str='first',\n",
    "                date=datetime.datetime.now(),\n",
    "                filename=pathlib.Path('/some/path.ext')):\n",
    "    ''' Widget fields example\n",
    "    \n",
    "    '''\n",
    "    show_info(f'Buttom pressed')"
   ]
  },
  {
   "cell_type": "markdown",
   "metadata": {},
   "source": [
    "Приклад використання віджета просто як обгортки для звичайної функції"
   ]
  },
  {
   "cell_type": "code",
   "execution_count": null,
   "metadata": {},
   "outputs": [],
   "source": [
    "@magic_factory(call_button=\"Build Mask\",\n",
    "               med={\"widget_type\": \"IntSlider\", 'min': 0, 'max': 10},\n",
    "               clsng={\"widget_type\": \"IntSlider\", 'min': 0, 'max': 10},\n",
    "               opnng={\"widget_type\": \"IntSlider\", 'min': 0, 'max': 10})\n",
    "def simple_masking_envelope(viewer: Viewer, image: Image,\n",
    "                            med:int=0, clsng:int=3, opnng:int=3):\n",
    "    image_data = image.data  # збережемо дані в тимчасову змінну\n",
    "\n",
    "    # виведемо ім'я шару та розмірність зображення\n",
    "    show_info(f'Image name: {image.name}')\n",
    "    show_info(f'Image shape: {image_data.shape}, dtype: {image_data.dtype}')\n",
    "\n",
    "    # викликаємо нашу функцію обробки зображення\n",
    "    output_mask = simple_masking(image_data,\n",
    "                                 median_filter=med,\n",
    "                                 closing=clsng,\n",
    "                                 opening=opnng)\n",
    "\n",
    "    # додаємо шар Labels з отриманою маскою\n",
    "    viewer.add_labels(output_mask, name=f'{image.name}_simple_mask', opacity=0.5)"
   ]
  },
  {
   "cell_type": "code",
   "execution_count": null,
   "metadata": {},
   "outputs": [],
   "source": [
    "wd = widget_demo()\n",
    "sme = simple_masking_envelope()\n",
    "\n",
    "viewer = Viewer()\n",
    "viewer.add_image(neuron_img_2D, name='neuron_img_2D', colormap='gray')\n",
    "\n",
    "viewer.window.add_dock_widget(wd,\n",
    "                              name = 'Demo',\n",
    "                              area='right')\n",
    "viewer.window.add_dock_widget(sme,\n",
    "                              name = 'Nice Simple Masking',\n",
    "                              area='right')\n",
    "\n",
    "viewer.show()"
   ]
  },
  {
   "cell_type": "markdown",
   "metadata": {},
   "source": [
    "# Плігни napari\n",
    "---"
   ]
  },
  {
   "cell_type": "markdown",
   "metadata": {},
   "source": [
    "Плагін napari - це паке Python, що містить додатковий службовий файл маніфісту napari `napari.yaml`, який описує призначення окремих функцій в межах роботи napari.\n",
    "\n",
    "Плагін може бути встановлений як звичайний пакет Python за допомогою pip, conda. Вже інсуючі плагіни можна знайти в [каталозі плагінів napari](https://napari-hub.org/).\n",
    "\n",
    "Додаткову інформацію про створення плагінів можна подивитись в [офіціфній документації napari](https://napari.org/dev/plugins/building_a_plugin/first_plugin.html).\n",
    "\n",
    "Доступний шаблон плагіну napari можна знайти в `templates/plugin-template`.\n",
    "\n",
    "__Структура плагіну napari__\n",
    "\n",
    "```\n",
    "└── plugin-template/          # директорія плагіну\n",
    "    ├── src/                  # загальна директорія із вихідним кодом\n",
    "    │   └── plugin_template/      # директорія із модулями плагіну\n",
    "    │       ├── __init__.py       # службовий файл директорії\n",
    "    │       ├── napari.yaml       # маніфест napari\n",
    "    │       └── _widget.py        # код віджетів плагіну\n",
    "    │\n",
    "    ├─── pyproject.toml       # конфігураційний файл\n",
    "    ├─── README.md            # файл опису\n",
    "    ├─── LICENSE              # ліцензія\n",
    "    └─── .gitignore           # службовий файл git\n",
    "```"
   ]
  },
  {
   "cell_type": "markdown",
   "metadata": {},
   "source": [
    "# Фінальний проєкт\n",
    "---\n",
    "\n",
    "Користуючись напрацюванями з попередніх зустрічей створіть плагін napari, що реалізує основні кроки обробки зображень:\n",
    "- Попередня обробка (фільтрація, згладжування)\n",
    "- Сегментація (поріг, морфологія)\n",
    "- Оцінка параметрів об'єктів та збереження результатів"
   ]
  }
 ],
 "metadata": {
  "kernelspec": {
   "display_name": "bioin-img",
   "language": "python",
   "name": "python3"
  },
  "language_info": {
   "codemirror_mode": {
    "name": "ipython",
    "version": 3
   },
   "file_extension": ".py",
   "mimetype": "text/x-python",
   "name": "python",
   "nbconvert_exporter": "python",
   "pygments_lexer": "ipython3",
   "version": "3.13.5"
  },
  "orig_nbformat": 4
 },
 "nbformat": 4,
 "nbformat_minor": 2
}
