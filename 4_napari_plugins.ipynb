{
 "cells": [
  {
   "cell_type": "markdown",
   "metadata": {},
   "source": [
    "IV. Пакети python та плагіни napari\n",
    "===================================\n",
    "\n",
    "_Image Analysis with Python and Napari, Bioinformatics for Ukraine course, 6-24 October 2025, Kyiv, Ukraine._\n",
    "\n",
    "_© Borys Olifirov, 2025_"
   ]
  },
  {
   "cell_type": "markdown",
   "metadata": {},
   "source": [
    "__План:__\n",
    "- Структура пакетів Python\n",
    "- Оформлення набору функцій як пакету\n",
    "- Встановлення власного пакету\n",
    "- Перетворення пакету в плагін napari"
   ]
  },
  {
   "cell_type": "markdown",
   "metadata": {},
   "source": [
    "---"
   ]
  },
  {
   "cell_type": "code",
   "execution_count": null,
   "metadata": {},
   "outputs": [],
   "source": [
    "import numpy as np\n",
    "import skimage  # scikit-image\n",
    "import matplotlib.pyplot as plt\n",
    "import napari"
   ]
  }
 ],
 "metadata": {
  "kernelspec": {
   "display_name": "bioin-img",
   "language": "python",
   "name": "python3"
  },
  "language_info": {
   "codemirror_mode": {
    "name": "ipython",
    "version": 3
   },
   "file_extension": ".py",
   "mimetype": "text/x-python",
   "name": "python",
   "nbconvert_exporter": "python",
   "pygments_lexer": "ipython3",
   "version": "3.13.5"
  },
  "orig_nbformat": 4
 },
 "nbformat": 4,
 "nbformat_minor": 2
}
